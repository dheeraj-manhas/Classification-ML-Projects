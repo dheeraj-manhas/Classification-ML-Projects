{
 "cells": [
  {
   "cell_type": "code",
   "execution_count": 1,
   "id": "9adc5b3f",
   "metadata": {
    "_cell_guid": "b1076dfc-b9ad-4769-8c92-a6c4dae69d19",
    "_uuid": "8f2839f25d086af736a60e9eeb907d3b93b6e0e5",
    "execution": {
     "iopub.execute_input": "2024-05-15T18:45:31.716514Z",
     "iopub.status.busy": "2024-05-15T18:45:31.715778Z",
     "iopub.status.idle": "2024-05-15T18:45:34.291213Z",
     "shell.execute_reply": "2024-05-15T18:45:34.289875Z"
    },
    "papermill": {
     "duration": 2.606759,
     "end_time": "2024-05-15T18:45:34.294132",
     "exception": false,
     "start_time": "2024-05-15T18:45:31.687373",
     "status": "completed"
    },
    "tags": []
   },
   "outputs": [
    {
     "name": "stdout",
     "output_type": "stream",
     "text": [
      "/kaggle/input/heart-failure-clinical-data/heart_failure_clinical_records_dataset.csv\n"
     ]
    }
   ],
   "source": [
    "# This Python 3 environment comes with many helpful analytics libraries installed\n",
    "# It is defined by the kaggle/python Docker image: https://github.com/kaggle/docker-python\n",
    "# For example, here's several helpful packages to load\n",
    "\n",
    "import numpy as np \n",
    "import pandas as pd \n",
    "import matplotlib.pyplot as plt\n",
    "import seaborn as sns\n",
    "import warnings\n",
    "warnings.simplefilter('ignore')\n",
    "# Input data files are available in the read-only \"../input/\" directory\n",
    "# For example, running this (by clicking run or pressing Shift+Enter) will list all files under the input directory\n",
    "\n",
    "import os\n",
    "for dirname, _, filenames in os.walk('/kaggle/input'):\n",
    "    for filename in filenames:\n",
    "        print(os.path.join(dirname, filename))\n",
    "\n"
   ]
  },
  {
   "cell_type": "code",
   "execution_count": 2,
   "id": "5af6c015",
   "metadata": {
    "execution": {
     "iopub.execute_input": "2024-05-15T18:45:34.352728Z",
     "iopub.status.busy": "2024-05-15T18:45:34.351655Z",
     "iopub.status.idle": "2024-05-15T18:45:34.412331Z",
     "shell.execute_reply": "2024-05-15T18:45:34.410874Z"
    },
    "papermill": {
     "duration": 0.093315,
     "end_time": "2024-05-15T18:45:34.415174",
     "exception": false,
     "start_time": "2024-05-15T18:45:34.321859",
     "status": "completed"
    },
    "tags": []
   },
   "outputs": [
    {
     "data": {
      "text/html": [
       "<div>\n",
       "<style scoped>\n",
       "    .dataframe tbody tr th:only-of-type {\n",
       "        vertical-align: middle;\n",
       "    }\n",
       "\n",
       "    .dataframe tbody tr th {\n",
       "        vertical-align: top;\n",
       "    }\n",
       "\n",
       "    .dataframe thead th {\n",
       "        text-align: right;\n",
       "    }\n",
       "</style>\n",
       "<table border=\"1\" class=\"dataframe\">\n",
       "  <thead>\n",
       "    <tr style=\"text-align: right;\">\n",
       "      <th></th>\n",
       "      <th>age</th>\n",
       "      <th>anaemia</th>\n",
       "      <th>creatinine_phosphokinase</th>\n",
       "      <th>diabetes</th>\n",
       "      <th>ejection_fraction</th>\n",
       "      <th>high_blood_pressure</th>\n",
       "      <th>platelets</th>\n",
       "      <th>serum_creatinine</th>\n",
       "      <th>serum_sodium</th>\n",
       "      <th>sex</th>\n",
       "      <th>smoking</th>\n",
       "      <th>time</th>\n",
       "      <th>DEATH_EVENT</th>\n",
       "    </tr>\n",
       "  </thead>\n",
       "  <tbody>\n",
       "    <tr>\n",
       "      <th>0</th>\n",
       "      <td>75.0</td>\n",
       "      <td>0</td>\n",
       "      <td>582</td>\n",
       "      <td>0</td>\n",
       "      <td>20</td>\n",
       "      <td>1</td>\n",
       "      <td>265000.00</td>\n",
       "      <td>1.9</td>\n",
       "      <td>130</td>\n",
       "      <td>1</td>\n",
       "      <td>0</td>\n",
       "      <td>4</td>\n",
       "      <td>1</td>\n",
       "    </tr>\n",
       "    <tr>\n",
       "      <th>1</th>\n",
       "      <td>55.0</td>\n",
       "      <td>0</td>\n",
       "      <td>7861</td>\n",
       "      <td>0</td>\n",
       "      <td>38</td>\n",
       "      <td>0</td>\n",
       "      <td>263358.03</td>\n",
       "      <td>1.1</td>\n",
       "      <td>136</td>\n",
       "      <td>1</td>\n",
       "      <td>0</td>\n",
       "      <td>6</td>\n",
       "      <td>1</td>\n",
       "    </tr>\n",
       "    <tr>\n",
       "      <th>2</th>\n",
       "      <td>65.0</td>\n",
       "      <td>0</td>\n",
       "      <td>146</td>\n",
       "      <td>0</td>\n",
       "      <td>20</td>\n",
       "      <td>0</td>\n",
       "      <td>162000.00</td>\n",
       "      <td>1.3</td>\n",
       "      <td>129</td>\n",
       "      <td>1</td>\n",
       "      <td>1</td>\n",
       "      <td>7</td>\n",
       "      <td>1</td>\n",
       "    </tr>\n",
       "    <tr>\n",
       "      <th>3</th>\n",
       "      <td>50.0</td>\n",
       "      <td>1</td>\n",
       "      <td>111</td>\n",
       "      <td>0</td>\n",
       "      <td>20</td>\n",
       "      <td>0</td>\n",
       "      <td>210000.00</td>\n",
       "      <td>1.9</td>\n",
       "      <td>137</td>\n",
       "      <td>1</td>\n",
       "      <td>0</td>\n",
       "      <td>7</td>\n",
       "      <td>1</td>\n",
       "    </tr>\n",
       "    <tr>\n",
       "      <th>4</th>\n",
       "      <td>65.0</td>\n",
       "      <td>1</td>\n",
       "      <td>160</td>\n",
       "      <td>1</td>\n",
       "      <td>20</td>\n",
       "      <td>0</td>\n",
       "      <td>327000.00</td>\n",
       "      <td>2.7</td>\n",
       "      <td>116</td>\n",
       "      <td>0</td>\n",
       "      <td>0</td>\n",
       "      <td>8</td>\n",
       "      <td>1</td>\n",
       "    </tr>\n",
       "    <tr>\n",
       "      <th>...</th>\n",
       "      <td>...</td>\n",
       "      <td>...</td>\n",
       "      <td>...</td>\n",
       "      <td>...</td>\n",
       "      <td>...</td>\n",
       "      <td>...</td>\n",
       "      <td>...</td>\n",
       "      <td>...</td>\n",
       "      <td>...</td>\n",
       "      <td>...</td>\n",
       "      <td>...</td>\n",
       "      <td>...</td>\n",
       "      <td>...</td>\n",
       "    </tr>\n",
       "    <tr>\n",
       "      <th>294</th>\n",
       "      <td>62.0</td>\n",
       "      <td>0</td>\n",
       "      <td>61</td>\n",
       "      <td>1</td>\n",
       "      <td>38</td>\n",
       "      <td>1</td>\n",
       "      <td>155000.00</td>\n",
       "      <td>1.1</td>\n",
       "      <td>143</td>\n",
       "      <td>1</td>\n",
       "      <td>1</td>\n",
       "      <td>270</td>\n",
       "      <td>0</td>\n",
       "    </tr>\n",
       "    <tr>\n",
       "      <th>295</th>\n",
       "      <td>55.0</td>\n",
       "      <td>0</td>\n",
       "      <td>1820</td>\n",
       "      <td>0</td>\n",
       "      <td>38</td>\n",
       "      <td>0</td>\n",
       "      <td>270000.00</td>\n",
       "      <td>1.2</td>\n",
       "      <td>139</td>\n",
       "      <td>0</td>\n",
       "      <td>0</td>\n",
       "      <td>271</td>\n",
       "      <td>0</td>\n",
       "    </tr>\n",
       "    <tr>\n",
       "      <th>296</th>\n",
       "      <td>45.0</td>\n",
       "      <td>0</td>\n",
       "      <td>2060</td>\n",
       "      <td>1</td>\n",
       "      <td>60</td>\n",
       "      <td>0</td>\n",
       "      <td>742000.00</td>\n",
       "      <td>0.8</td>\n",
       "      <td>138</td>\n",
       "      <td>0</td>\n",
       "      <td>0</td>\n",
       "      <td>278</td>\n",
       "      <td>0</td>\n",
       "    </tr>\n",
       "    <tr>\n",
       "      <th>297</th>\n",
       "      <td>45.0</td>\n",
       "      <td>0</td>\n",
       "      <td>2413</td>\n",
       "      <td>0</td>\n",
       "      <td>38</td>\n",
       "      <td>0</td>\n",
       "      <td>140000.00</td>\n",
       "      <td>1.4</td>\n",
       "      <td>140</td>\n",
       "      <td>1</td>\n",
       "      <td>1</td>\n",
       "      <td>280</td>\n",
       "      <td>0</td>\n",
       "    </tr>\n",
       "    <tr>\n",
       "      <th>298</th>\n",
       "      <td>50.0</td>\n",
       "      <td>0</td>\n",
       "      <td>196</td>\n",
       "      <td>0</td>\n",
       "      <td>45</td>\n",
       "      <td>0</td>\n",
       "      <td>395000.00</td>\n",
       "      <td>1.6</td>\n",
       "      <td>136</td>\n",
       "      <td>1</td>\n",
       "      <td>1</td>\n",
       "      <td>285</td>\n",
       "      <td>0</td>\n",
       "    </tr>\n",
       "  </tbody>\n",
       "</table>\n",
       "<p>299 rows × 13 columns</p>\n",
       "</div>"
      ],
      "text/plain": [
       "      age  anaemia  creatinine_phosphokinase  diabetes  ejection_fraction  \\\n",
       "0    75.0        0                       582         0                 20   \n",
       "1    55.0        0                      7861         0                 38   \n",
       "2    65.0        0                       146         0                 20   \n",
       "3    50.0        1                       111         0                 20   \n",
       "4    65.0        1                       160         1                 20   \n",
       "..    ...      ...                       ...       ...                ...   \n",
       "294  62.0        0                        61         1                 38   \n",
       "295  55.0        0                      1820         0                 38   \n",
       "296  45.0        0                      2060         1                 60   \n",
       "297  45.0        0                      2413         0                 38   \n",
       "298  50.0        0                       196         0                 45   \n",
       "\n",
       "     high_blood_pressure  platelets  serum_creatinine  serum_sodium  sex  \\\n",
       "0                      1  265000.00               1.9           130    1   \n",
       "1                      0  263358.03               1.1           136    1   \n",
       "2                      0  162000.00               1.3           129    1   \n",
       "3                      0  210000.00               1.9           137    1   \n",
       "4                      0  327000.00               2.7           116    0   \n",
       "..                   ...        ...               ...           ...  ...   \n",
       "294                    1  155000.00               1.1           143    1   \n",
       "295                    0  270000.00               1.2           139    0   \n",
       "296                    0  742000.00               0.8           138    0   \n",
       "297                    0  140000.00               1.4           140    1   \n",
       "298                    0  395000.00               1.6           136    1   \n",
       "\n",
       "     smoking  time  DEATH_EVENT  \n",
       "0          0     4            1  \n",
       "1          0     6            1  \n",
       "2          1     7            1  \n",
       "3          0     7            1  \n",
       "4          0     8            1  \n",
       "..       ...   ...          ...  \n",
       "294        1   270            0  \n",
       "295        0   271            0  \n",
       "296        0   278            0  \n",
       "297        1   280            0  \n",
       "298        1   285            0  \n",
       "\n",
       "[299 rows x 13 columns]"
      ]
     },
     "execution_count": 2,
     "metadata": {},
     "output_type": "execute_result"
    }
   ],
   "source": [
    "df = pd.read_csv('/kaggle/input/heart-failure-clinical-data/heart_failure_clinical_records_dataset.csv')\n",
    "df"
   ]
  },
  {
   "cell_type": "markdown",
   "id": "82894985",
   "metadata": {
    "papermill": {
     "duration": 0.029092,
     "end_time": "2024-05-15T18:45:34.472874",
     "exception": false,
     "start_time": "2024-05-15T18:45:34.443782",
     "status": "completed"
    },
    "tags": []
   },
   "source": [
    "# Data Understanding"
   ]
  },
  {
   "cell_type": "code",
   "execution_count": 3,
   "id": "992e2d7b",
   "metadata": {
    "execution": {
     "iopub.execute_input": "2024-05-15T18:45:34.529073Z",
     "iopub.status.busy": "2024-05-15T18:45:34.528551Z",
     "iopub.status.idle": "2024-05-15T18:45:34.557909Z",
     "shell.execute_reply": "2024-05-15T18:45:34.555546Z"
    },
    "papermill": {
     "duration": 0.061179,
     "end_time": "2024-05-15T18:45:34.560784",
     "exception": false,
     "start_time": "2024-05-15T18:45:34.499605",
     "status": "completed"
    },
    "tags": []
   },
   "outputs": [
    {
     "name": "stdout",
     "output_type": "stream",
     "text": [
      "<class 'pandas.core.frame.DataFrame'>\n",
      "RangeIndex: 299 entries, 0 to 298\n",
      "Data columns (total 13 columns):\n",
      " #   Column                    Non-Null Count  Dtype  \n",
      "---  ------                    --------------  -----  \n",
      " 0   age                       299 non-null    float64\n",
      " 1   anaemia                   299 non-null    int64  \n",
      " 2   creatinine_phosphokinase  299 non-null    int64  \n",
      " 3   diabetes                  299 non-null    int64  \n",
      " 4   ejection_fraction         299 non-null    int64  \n",
      " 5   high_blood_pressure       299 non-null    int64  \n",
      " 6   platelets                 299 non-null    float64\n",
      " 7   serum_creatinine          299 non-null    float64\n",
      " 8   serum_sodium              299 non-null    int64  \n",
      " 9   sex                       299 non-null    int64  \n",
      " 10  smoking                   299 non-null    int64  \n",
      " 11  time                      299 non-null    int64  \n",
      " 12  DEATH_EVENT               299 non-null    int64  \n",
      "dtypes: float64(3), int64(10)\n",
      "memory usage: 30.5 KB\n"
     ]
    }
   ],
   "source": [
    "df.info()"
   ]
  },
  {
   "cell_type": "code",
   "execution_count": 4,
   "id": "48e2d264",
   "metadata": {
    "execution": {
     "iopub.execute_input": "2024-05-15T18:45:34.619119Z",
     "iopub.status.busy": "2024-05-15T18:45:34.618705Z",
     "iopub.status.idle": "2024-05-15T18:45:34.626989Z",
     "shell.execute_reply": "2024-05-15T18:45:34.625579Z"
    },
    "papermill": {
     "duration": 0.041669,
     "end_time": "2024-05-15T18:45:34.630772",
     "exception": false,
     "start_time": "2024-05-15T18:45:34.589103",
     "status": "completed"
    },
    "tags": []
   },
   "outputs": [
    {
     "data": {
      "text/plain": [
       "Index(['age', 'anaemia', 'creatinine_phosphokinase', 'diabetes',\n",
       "       'ejection_fraction', 'high_blood_pressure', 'platelets',\n",
       "       'serum_creatinine', 'serum_sodium', 'sex', 'smoking', 'time',\n",
       "       'DEATH_EVENT'],\n",
       "      dtype='object')"
      ]
     },
     "execution_count": 4,
     "metadata": {},
     "output_type": "execute_result"
    }
   ],
   "source": [
    "df.columns"
   ]
  },
  {
   "cell_type": "markdown",
   "id": "7b27a08b",
   "metadata": {
    "papermill": {
     "duration": 0.02643,
     "end_time": "2024-05-15T18:45:34.685174",
     "exception": false,
     "start_time": "2024-05-15T18:45:34.658744",
     "status": "completed"
    },
    "tags": []
   },
   "source": [
    "**Columns meaning need to know**\n",
    "* Anaemia: Decrease of red blood cells or hemoglobin\n",
    "* Creatinine phosphokinase: Level of the CPK enzyme in the blood\n",
    "* Ejection fraction: Percentage of blood leaving the heart at each contraction\n",
    "* Serum creatinine: Waste product in your blood that comes from your muscles\n",
    "* Serum sodium: The concentration of sodium in the blood"
   ]
  },
  {
   "cell_type": "code",
   "execution_count": 5,
   "id": "709a1386",
   "metadata": {
    "execution": {
     "iopub.execute_input": "2024-05-15T18:45:34.740185Z",
     "iopub.status.busy": "2024-05-15T18:45:34.739782Z",
     "iopub.status.idle": "2024-05-15T18:45:34.792943Z",
     "shell.execute_reply": "2024-05-15T18:45:34.792022Z"
    },
    "papermill": {
     "duration": 0.08347,
     "end_time": "2024-05-15T18:45:34.795402",
     "exception": false,
     "start_time": "2024-05-15T18:45:34.711932",
     "status": "completed"
    },
    "tags": []
   },
   "outputs": [
    {
     "data": {
      "text/html": [
       "<div>\n",
       "<style scoped>\n",
       "    .dataframe tbody tr th:only-of-type {\n",
       "        vertical-align: middle;\n",
       "    }\n",
       "\n",
       "    .dataframe tbody tr th {\n",
       "        vertical-align: top;\n",
       "    }\n",
       "\n",
       "    .dataframe thead th {\n",
       "        text-align: right;\n",
       "    }\n",
       "</style>\n",
       "<table border=\"1\" class=\"dataframe\">\n",
       "  <thead>\n",
       "    <tr style=\"text-align: right;\">\n",
       "      <th></th>\n",
       "      <th>age</th>\n",
       "      <th>anaemia</th>\n",
       "      <th>creatinine_phosphokinase</th>\n",
       "      <th>diabetes</th>\n",
       "      <th>ejection_fraction</th>\n",
       "      <th>high_blood_pressure</th>\n",
       "      <th>platelets</th>\n",
       "      <th>serum_creatinine</th>\n",
       "      <th>serum_sodium</th>\n",
       "      <th>sex</th>\n",
       "      <th>smoking</th>\n",
       "      <th>time</th>\n",
       "      <th>DEATH_EVENT</th>\n",
       "    </tr>\n",
       "  </thead>\n",
       "  <tbody>\n",
       "    <tr>\n",
       "      <th>count</th>\n",
       "      <td>299.000000</td>\n",
       "      <td>299.000000</td>\n",
       "      <td>299.000000</td>\n",
       "      <td>299.000000</td>\n",
       "      <td>299.000000</td>\n",
       "      <td>299.000000</td>\n",
       "      <td>299.000000</td>\n",
       "      <td>299.00000</td>\n",
       "      <td>299.000000</td>\n",
       "      <td>299.000000</td>\n",
       "      <td>299.00000</td>\n",
       "      <td>299.000000</td>\n",
       "      <td>299.00000</td>\n",
       "    </tr>\n",
       "    <tr>\n",
       "      <th>mean</th>\n",
       "      <td>60.833893</td>\n",
       "      <td>0.431438</td>\n",
       "      <td>581.839465</td>\n",
       "      <td>0.418060</td>\n",
       "      <td>38.083612</td>\n",
       "      <td>0.351171</td>\n",
       "      <td>263358.029264</td>\n",
       "      <td>1.39388</td>\n",
       "      <td>136.625418</td>\n",
       "      <td>0.648829</td>\n",
       "      <td>0.32107</td>\n",
       "      <td>130.260870</td>\n",
       "      <td>0.32107</td>\n",
       "    </tr>\n",
       "    <tr>\n",
       "      <th>std</th>\n",
       "      <td>11.894809</td>\n",
       "      <td>0.496107</td>\n",
       "      <td>970.287881</td>\n",
       "      <td>0.494067</td>\n",
       "      <td>11.834841</td>\n",
       "      <td>0.478136</td>\n",
       "      <td>97804.236869</td>\n",
       "      <td>1.03451</td>\n",
       "      <td>4.412477</td>\n",
       "      <td>0.478136</td>\n",
       "      <td>0.46767</td>\n",
       "      <td>77.614208</td>\n",
       "      <td>0.46767</td>\n",
       "    </tr>\n",
       "    <tr>\n",
       "      <th>min</th>\n",
       "      <td>40.000000</td>\n",
       "      <td>0.000000</td>\n",
       "      <td>23.000000</td>\n",
       "      <td>0.000000</td>\n",
       "      <td>14.000000</td>\n",
       "      <td>0.000000</td>\n",
       "      <td>25100.000000</td>\n",
       "      <td>0.50000</td>\n",
       "      <td>113.000000</td>\n",
       "      <td>0.000000</td>\n",
       "      <td>0.00000</td>\n",
       "      <td>4.000000</td>\n",
       "      <td>0.00000</td>\n",
       "    </tr>\n",
       "    <tr>\n",
       "      <th>25%</th>\n",
       "      <td>51.000000</td>\n",
       "      <td>0.000000</td>\n",
       "      <td>116.500000</td>\n",
       "      <td>0.000000</td>\n",
       "      <td>30.000000</td>\n",
       "      <td>0.000000</td>\n",
       "      <td>212500.000000</td>\n",
       "      <td>0.90000</td>\n",
       "      <td>134.000000</td>\n",
       "      <td>0.000000</td>\n",
       "      <td>0.00000</td>\n",
       "      <td>73.000000</td>\n",
       "      <td>0.00000</td>\n",
       "    </tr>\n",
       "    <tr>\n",
       "      <th>50%</th>\n",
       "      <td>60.000000</td>\n",
       "      <td>0.000000</td>\n",
       "      <td>250.000000</td>\n",
       "      <td>0.000000</td>\n",
       "      <td>38.000000</td>\n",
       "      <td>0.000000</td>\n",
       "      <td>262000.000000</td>\n",
       "      <td>1.10000</td>\n",
       "      <td>137.000000</td>\n",
       "      <td>1.000000</td>\n",
       "      <td>0.00000</td>\n",
       "      <td>115.000000</td>\n",
       "      <td>0.00000</td>\n",
       "    </tr>\n",
       "    <tr>\n",
       "      <th>75%</th>\n",
       "      <td>70.000000</td>\n",
       "      <td>1.000000</td>\n",
       "      <td>582.000000</td>\n",
       "      <td>1.000000</td>\n",
       "      <td>45.000000</td>\n",
       "      <td>1.000000</td>\n",
       "      <td>303500.000000</td>\n",
       "      <td>1.40000</td>\n",
       "      <td>140.000000</td>\n",
       "      <td>1.000000</td>\n",
       "      <td>1.00000</td>\n",
       "      <td>203.000000</td>\n",
       "      <td>1.00000</td>\n",
       "    </tr>\n",
       "    <tr>\n",
       "      <th>max</th>\n",
       "      <td>95.000000</td>\n",
       "      <td>1.000000</td>\n",
       "      <td>7861.000000</td>\n",
       "      <td>1.000000</td>\n",
       "      <td>80.000000</td>\n",
       "      <td>1.000000</td>\n",
       "      <td>850000.000000</td>\n",
       "      <td>9.40000</td>\n",
       "      <td>148.000000</td>\n",
       "      <td>1.000000</td>\n",
       "      <td>1.00000</td>\n",
       "      <td>285.000000</td>\n",
       "      <td>1.00000</td>\n",
       "    </tr>\n",
       "  </tbody>\n",
       "</table>\n",
       "</div>"
      ],
      "text/plain": [
       "              age     anaemia  creatinine_phosphokinase    diabetes  \\\n",
       "count  299.000000  299.000000                299.000000  299.000000   \n",
       "mean    60.833893    0.431438                581.839465    0.418060   \n",
       "std     11.894809    0.496107                970.287881    0.494067   \n",
       "min     40.000000    0.000000                 23.000000    0.000000   \n",
       "25%     51.000000    0.000000                116.500000    0.000000   \n",
       "50%     60.000000    0.000000                250.000000    0.000000   \n",
       "75%     70.000000    1.000000                582.000000    1.000000   \n",
       "max     95.000000    1.000000               7861.000000    1.000000   \n",
       "\n",
       "       ejection_fraction  high_blood_pressure      platelets  \\\n",
       "count         299.000000           299.000000     299.000000   \n",
       "mean           38.083612             0.351171  263358.029264   \n",
       "std            11.834841             0.478136   97804.236869   \n",
       "min            14.000000             0.000000   25100.000000   \n",
       "25%            30.000000             0.000000  212500.000000   \n",
       "50%            38.000000             0.000000  262000.000000   \n",
       "75%            45.000000             1.000000  303500.000000   \n",
       "max            80.000000             1.000000  850000.000000   \n",
       "\n",
       "       serum_creatinine  serum_sodium         sex    smoking        time  \\\n",
       "count         299.00000    299.000000  299.000000  299.00000  299.000000   \n",
       "mean            1.39388    136.625418    0.648829    0.32107  130.260870   \n",
       "std             1.03451      4.412477    0.478136    0.46767   77.614208   \n",
       "min             0.50000    113.000000    0.000000    0.00000    4.000000   \n",
       "25%             0.90000    134.000000    0.000000    0.00000   73.000000   \n",
       "50%             1.10000    137.000000    1.000000    0.00000  115.000000   \n",
       "75%             1.40000    140.000000    1.000000    1.00000  203.000000   \n",
       "max             9.40000    148.000000    1.000000    1.00000  285.000000   \n",
       "\n",
       "       DEATH_EVENT  \n",
       "count    299.00000  \n",
       "mean       0.32107  \n",
       "std        0.46767  \n",
       "min        0.00000  \n",
       "25%        0.00000  \n",
       "50%        0.00000  \n",
       "75%        1.00000  \n",
       "max        1.00000  "
      ]
     },
     "execution_count": 5,
     "metadata": {},
     "output_type": "execute_result"
    }
   ],
   "source": [
    "df.describe()"
   ]
  },
  {
   "cell_type": "code",
   "execution_count": 6,
   "id": "95276437",
   "metadata": {
    "execution": {
     "iopub.execute_input": "2024-05-15T18:45:34.858604Z",
     "iopub.status.busy": "2024-05-15T18:45:34.858206Z",
     "iopub.status.idle": "2024-05-15T18:45:34.863924Z",
     "shell.execute_reply": "2024-05-15T18:45:34.862207Z"
    },
    "papermill": {
     "duration": 0.042277,
     "end_time": "2024-05-15T18:45:34.867492",
     "exception": false,
     "start_time": "2024-05-15T18:45:34.825215",
     "status": "completed"
    },
    "tags": []
   },
   "outputs": [],
   "source": [
    "continous_variables = ['age', 'creatinine_phosphokinase', 'ejection_fraction', 'platelets', \n",
    "                       'serum_creatinine', 'serum_sodium', 'time']"
   ]
  },
  {
   "cell_type": "code",
   "execution_count": 7,
   "id": "49340c55",
   "metadata": {
    "execution": {
     "iopub.execute_input": "2024-05-15T18:45:34.926004Z",
     "iopub.status.busy": "2024-05-15T18:45:34.925586Z",
     "iopub.status.idle": "2024-05-15T18:45:34.964899Z",
     "shell.execute_reply": "2024-05-15T18:45:34.963137Z"
    },
    "papermill": {
     "duration": 0.071679,
     "end_time": "2024-05-15T18:45:34.968008",
     "exception": false,
     "start_time": "2024-05-15T18:45:34.896329",
     "status": "completed"
    },
    "tags": []
   },
   "outputs": [
    {
     "data": {
      "text/html": [
       "<div>\n",
       "<style scoped>\n",
       "    .dataframe tbody tr th:only-of-type {\n",
       "        vertical-align: middle;\n",
       "    }\n",
       "\n",
       "    .dataframe tbody tr th {\n",
       "        vertical-align: top;\n",
       "    }\n",
       "\n",
       "    .dataframe thead th {\n",
       "        text-align: right;\n",
       "    }\n",
       "</style>\n",
       "<table border=\"1\" class=\"dataframe\">\n",
       "  <thead>\n",
       "    <tr style=\"text-align: right;\">\n",
       "      <th></th>\n",
       "      <th>age</th>\n",
       "      <th>creatinine_phosphokinase</th>\n",
       "      <th>ejection_fraction</th>\n",
       "      <th>platelets</th>\n",
       "      <th>serum_creatinine</th>\n",
       "      <th>serum_sodium</th>\n",
       "      <th>time</th>\n",
       "    </tr>\n",
       "  </thead>\n",
       "  <tbody>\n",
       "    <tr>\n",
       "      <th>count</th>\n",
       "      <td>299.000000</td>\n",
       "      <td>299.000000</td>\n",
       "      <td>299.000000</td>\n",
       "      <td>299.000000</td>\n",
       "      <td>299.00000</td>\n",
       "      <td>299.000000</td>\n",
       "      <td>299.000000</td>\n",
       "    </tr>\n",
       "    <tr>\n",
       "      <th>mean</th>\n",
       "      <td>60.833893</td>\n",
       "      <td>581.839465</td>\n",
       "      <td>38.083612</td>\n",
       "      <td>263358.029264</td>\n",
       "      <td>1.39388</td>\n",
       "      <td>136.625418</td>\n",
       "      <td>130.260870</td>\n",
       "    </tr>\n",
       "    <tr>\n",
       "      <th>std</th>\n",
       "      <td>11.894809</td>\n",
       "      <td>970.287881</td>\n",
       "      <td>11.834841</td>\n",
       "      <td>97804.236869</td>\n",
       "      <td>1.03451</td>\n",
       "      <td>4.412477</td>\n",
       "      <td>77.614208</td>\n",
       "    </tr>\n",
       "    <tr>\n",
       "      <th>min</th>\n",
       "      <td>40.000000</td>\n",
       "      <td>23.000000</td>\n",
       "      <td>14.000000</td>\n",
       "      <td>25100.000000</td>\n",
       "      <td>0.50000</td>\n",
       "      <td>113.000000</td>\n",
       "      <td>4.000000</td>\n",
       "    </tr>\n",
       "    <tr>\n",
       "      <th>25%</th>\n",
       "      <td>51.000000</td>\n",
       "      <td>116.500000</td>\n",
       "      <td>30.000000</td>\n",
       "      <td>212500.000000</td>\n",
       "      <td>0.90000</td>\n",
       "      <td>134.000000</td>\n",
       "      <td>73.000000</td>\n",
       "    </tr>\n",
       "    <tr>\n",
       "      <th>50%</th>\n",
       "      <td>60.000000</td>\n",
       "      <td>250.000000</td>\n",
       "      <td>38.000000</td>\n",
       "      <td>262000.000000</td>\n",
       "      <td>1.10000</td>\n",
       "      <td>137.000000</td>\n",
       "      <td>115.000000</td>\n",
       "    </tr>\n",
       "    <tr>\n",
       "      <th>75%</th>\n",
       "      <td>70.000000</td>\n",
       "      <td>582.000000</td>\n",
       "      <td>45.000000</td>\n",
       "      <td>303500.000000</td>\n",
       "      <td>1.40000</td>\n",
       "      <td>140.000000</td>\n",
       "      <td>203.000000</td>\n",
       "    </tr>\n",
       "    <tr>\n",
       "      <th>max</th>\n",
       "      <td>95.000000</td>\n",
       "      <td>7861.000000</td>\n",
       "      <td>80.000000</td>\n",
       "      <td>850000.000000</td>\n",
       "      <td>9.40000</td>\n",
       "      <td>148.000000</td>\n",
       "      <td>285.000000</td>\n",
       "    </tr>\n",
       "  </tbody>\n",
       "</table>\n",
       "</div>"
      ],
      "text/plain": [
       "              age  creatinine_phosphokinase  ejection_fraction      platelets  \\\n",
       "count  299.000000                299.000000         299.000000     299.000000   \n",
       "mean    60.833893                581.839465          38.083612  263358.029264   \n",
       "std     11.894809                970.287881          11.834841   97804.236869   \n",
       "min     40.000000                 23.000000          14.000000   25100.000000   \n",
       "25%     51.000000                116.500000          30.000000  212500.000000   \n",
       "50%     60.000000                250.000000          38.000000  262000.000000   \n",
       "75%     70.000000                582.000000          45.000000  303500.000000   \n",
       "max     95.000000               7861.000000          80.000000  850000.000000   \n",
       "\n",
       "       serum_creatinine  serum_sodium        time  \n",
       "count         299.00000    299.000000  299.000000  \n",
       "mean            1.39388    136.625418  130.260870  \n",
       "std             1.03451      4.412477   77.614208  \n",
       "min             0.50000    113.000000    4.000000  \n",
       "25%             0.90000    134.000000   73.000000  \n",
       "50%             1.10000    137.000000  115.000000  \n",
       "75%             1.40000    140.000000  203.000000  \n",
       "max             9.40000    148.000000  285.000000  "
      ]
     },
     "execution_count": 7,
     "metadata": {},
     "output_type": "execute_result"
    }
   ],
   "source": [
    "df[continous_variables].describe()"
   ]
  },
  {
   "cell_type": "code",
   "execution_count": 8,
   "id": "6f74d3f3",
   "metadata": {
    "execution": {
     "iopub.execute_input": "2024-05-15T18:45:35.027232Z",
     "iopub.status.busy": "2024-05-15T18:45:35.026651Z",
     "iopub.status.idle": "2024-05-15T18:45:35.037662Z",
     "shell.execute_reply": "2024-05-15T18:45:35.036466Z"
    },
    "papermill": {
     "duration": 0.04472,
     "end_time": "2024-05-15T18:45:35.040201",
     "exception": false,
     "start_time": "2024-05-15T18:45:34.995481",
     "status": "completed"
    },
    "tags": []
   },
   "outputs": [
    {
     "data": {
      "text/plain": [
       "anaemia\n",
       "0    170\n",
       "1    129\n",
       "Name: count, dtype: int64"
      ]
     },
     "execution_count": 8,
     "metadata": {},
     "output_type": "execute_result"
    }
   ],
   "source": [
    "df['anaemia'].value_counts()"
   ]
  },
  {
   "cell_type": "code",
   "execution_count": 9,
   "id": "87f71838",
   "metadata": {
    "execution": {
     "iopub.execute_input": "2024-05-15T18:45:35.161289Z",
     "iopub.status.busy": "2024-05-15T18:45:35.160146Z",
     "iopub.status.idle": "2024-05-15T18:45:35.169541Z",
     "shell.execute_reply": "2024-05-15T18:45:35.168125Z"
    },
    "papermill": {
     "duration": 0.10399,
     "end_time": "2024-05-15T18:45:35.172195",
     "exception": false,
     "start_time": "2024-05-15T18:45:35.068205",
     "status": "completed"
    },
    "tags": []
   },
   "outputs": [
    {
     "data": {
      "text/plain": [
       "diabetes\n",
       "0    174\n",
       "1    125\n",
       "Name: count, dtype: int64"
      ]
     },
     "execution_count": 9,
     "metadata": {},
     "output_type": "execute_result"
    }
   ],
   "source": [
    "df['diabetes'].value_counts()"
   ]
  },
  {
   "cell_type": "code",
   "execution_count": 10,
   "id": "1e54cc9c",
   "metadata": {
    "execution": {
     "iopub.execute_input": "2024-05-15T18:45:35.230607Z",
     "iopub.status.busy": "2024-05-15T18:45:35.230219Z",
     "iopub.status.idle": "2024-05-15T18:45:35.239594Z",
     "shell.execute_reply": "2024-05-15T18:45:35.238102Z"
    },
    "papermill": {
     "duration": 0.041388,
     "end_time": "2024-05-15T18:45:35.242168",
     "exception": false,
     "start_time": "2024-05-15T18:45:35.200780",
     "status": "completed"
    },
    "tags": []
   },
   "outputs": [
    {
     "data": {
      "text/plain": [
       "high_blood_pressure\n",
       "0    194\n",
       "1    105\n",
       "Name: count, dtype: int64"
      ]
     },
     "execution_count": 10,
     "metadata": {},
     "output_type": "execute_result"
    }
   ],
   "source": [
    "df['high_blood_pressure'].value_counts()"
   ]
  },
  {
   "cell_type": "code",
   "execution_count": 11,
   "id": "1d51a1d0",
   "metadata": {
    "execution": {
     "iopub.execute_input": "2024-05-15T18:45:35.302357Z",
     "iopub.status.busy": "2024-05-15T18:45:35.301942Z",
     "iopub.status.idle": "2024-05-15T18:45:35.311297Z",
     "shell.execute_reply": "2024-05-15T18:45:35.309481Z"
    },
    "papermill": {
     "duration": 0.042171,
     "end_time": "2024-05-15T18:45:35.314169",
     "exception": false,
     "start_time": "2024-05-15T18:45:35.271998",
     "status": "completed"
    },
    "tags": []
   },
   "outputs": [
    {
     "data": {
      "text/plain": [
       "sex\n",
       "1    194\n",
       "0    105\n",
       "Name: count, dtype: int64"
      ]
     },
     "execution_count": 11,
     "metadata": {},
     "output_type": "execute_result"
    }
   ],
   "source": [
    "df['sex'].value_counts()"
   ]
  },
  {
   "cell_type": "code",
   "execution_count": 12,
   "id": "cf498338",
   "metadata": {
    "execution": {
     "iopub.execute_input": "2024-05-15T18:45:35.374259Z",
     "iopub.status.busy": "2024-05-15T18:45:35.373878Z",
     "iopub.status.idle": "2024-05-15T18:45:35.382129Z",
     "shell.execute_reply": "2024-05-15T18:45:35.380858Z"
    },
    "papermill": {
     "duration": 0.041114,
     "end_time": "2024-05-15T18:45:35.384546",
     "exception": false,
     "start_time": "2024-05-15T18:45:35.343432",
     "status": "completed"
    },
    "tags": []
   },
   "outputs": [
    {
     "data": {
      "text/plain": [
       "smoking\n",
       "0    203\n",
       "1     96\n",
       "Name: count, dtype: int64"
      ]
     },
     "execution_count": 12,
     "metadata": {},
     "output_type": "execute_result"
    }
   ],
   "source": [
    "df['smoking'].value_counts()"
   ]
  },
  {
   "cell_type": "code",
   "execution_count": 13,
   "id": "4ff6c6ec",
   "metadata": {
    "execution": {
     "iopub.execute_input": "2024-05-15T18:45:35.443342Z",
     "iopub.status.busy": "2024-05-15T18:45:35.442938Z",
     "iopub.status.idle": "2024-05-15T18:45:35.451461Z",
     "shell.execute_reply": "2024-05-15T18:45:35.450081Z"
    },
    "papermill": {
     "duration": 0.041189,
     "end_time": "2024-05-15T18:45:35.454118",
     "exception": false,
     "start_time": "2024-05-15T18:45:35.412929",
     "status": "completed"
    },
    "tags": []
   },
   "outputs": [
    {
     "data": {
      "text/plain": [
       "DEATH_EVENT\n",
       "0    203\n",
       "1     96\n",
       "Name: count, dtype: int64"
      ]
     },
     "execution_count": 13,
     "metadata": {},
     "output_type": "execute_result"
    }
   ],
   "source": [
    "df['DEATH_EVENT'].value_counts()"
   ]
  },
  {
   "cell_type": "markdown",
   "id": "57cde90f",
   "metadata": {
    "papermill": {
     "duration": 0.028333,
     "end_time": "2024-05-15T18:45:35.511275",
     "exception": false,
     "start_time": "2024-05-15T18:45:35.482942",
     "status": "completed"
    },
    "tags": []
   },
   "source": [
    "**Finding Correlation between variables**"
   ]
  },
  {
   "cell_type": "code",
   "execution_count": 14,
   "id": "e09a67b6",
   "metadata": {
    "execution": {
     "iopub.execute_input": "2024-05-15T18:45:35.572699Z",
     "iopub.status.busy": "2024-05-15T18:45:35.572253Z",
     "iopub.status.idle": "2024-05-15T18:45:36.587784Z",
     "shell.execute_reply": "2024-05-15T18:45:36.586427Z"
    },
    "papermill": {
     "duration": 1.051734,
     "end_time": "2024-05-15T18:45:36.592180",
     "exception": false,
     "start_time": "2024-05-15T18:45:35.540446",
     "status": "completed"
    },
    "tags": []
   },
   "outputs": [
    {
     "data": {
      "image/png": "[encoded data removed]",
      "text/plain": [
       "<Figure size 1000x800 with 2 Axes>"
      ]
     },
     "metadata": {},
     "output_type": "display_data"
    }
   ],
   "source": [
    "plt.figure(figsize=(10, 8))\n",
    "sns.heatmap(df.corr(),annot=True)\n",
    "plt.show()"
   ]
  },
  {
   "cell_type": "markdown",
   "id": "de99f780",
   "metadata": {
    "papermill": {
     "duration": 0.030937,
     "end_time": "2024-05-15T18:45:36.654543",
     "exception": false,
     "start_time": "2024-05-15T18:45:36.623606",
     "status": "completed"
    },
    "tags": []
   },
   "source": [
    "Time is negatively correlated with death event more than any other factor.\n",
    "So, we'll not consider it in our model"
   ]
  },
  {
   "cell_type": "markdown",
   "id": "7e863ad4",
   "metadata": {
    "papermill": {
     "duration": 0.033436,
     "end_time": "2024-05-15T18:45:36.722893",
     "exception": false,
     "start_time": "2024-05-15T18:45:36.689457",
     "status": "completed"
    },
    "tags": []
   },
   "source": [
    "# Data Preprocessing"
   ]
  },
  {
   "cell_type": "markdown",
   "id": "001cb8d3",
   "metadata": {
    "execution": {
     "iopub.execute_input": "2024-05-09T19:20:59.814155Z",
     "iopub.status.busy": "2024-05-09T19:20:59.813772Z",
     "iopub.status.idle": "2024-05-09T19:20:59.821474Z",
     "shell.execute_reply": "2024-05-09T19:20:59.819708Z",
     "shell.execute_reply.started": "2024-05-09T19:20:59.814125Z"
    },
    "papermill": {
     "duration": 0.032951,
     "end_time": "2024-05-15T18:45:36.790336",
     "exception": false,
     "start_time": "2024-05-15T18:45:36.757385",
     "status": "completed"
    },
    "tags": []
   },
   "source": [
    "**Checking empty values**"
   ]
  },
  {
   "cell_type": "code",
   "execution_count": 15,
   "id": "4964ae91",
   "metadata": {
    "execution": {
     "iopub.execute_input": "2024-05-15T18:45:36.862960Z",
     "iopub.status.busy": "2024-05-15T18:45:36.862576Z",
     "iopub.status.idle": "2024-05-15T18:45:36.871166Z",
     "shell.execute_reply": "2024-05-15T18:45:36.870248Z"
    },
    "papermill": {
     "duration": 0.049545,
     "end_time": "2024-05-15T18:45:36.873729",
     "exception": false,
     "start_time": "2024-05-15T18:45:36.824184",
     "status": "completed"
    },
    "tags": []
   },
   "outputs": [
    {
     "data": {
      "text/plain": [
       "age                         0\n",
       "anaemia                     0\n",
       "creatinine_phosphokinase    0\n",
       "diabetes                    0\n",
       "ejection_fraction           0\n",
       "high_blood_pressure         0\n",
       "platelets                   0\n",
       "serum_creatinine            0\n",
       "serum_sodium                0\n",
       "sex                         0\n",
       "smoking                     0\n",
       "time                        0\n",
       "DEATH_EVENT                 0\n",
       "dtype: int64"
      ]
     },
     "execution_count": 15,
     "metadata": {},
     "output_type": "execute_result"
    }
   ],
   "source": [
    "df.isnull().sum()"
   ]
  },
  {
   "cell_type": "markdown",
   "id": "b2fff7a9",
   "metadata": {
    "papermill": {
     "duration": 0.034378,
     "end_time": "2024-05-15T18:45:36.941394",
     "exception": false,
     "start_time": "2024-05-15T18:45:36.907016",
     "status": "completed"
    },
    "tags": []
   },
   "source": [
    "**Checking Duplicate values**"
   ]
  },
  {
   "cell_type": "code",
   "execution_count": 16,
   "id": "b6cecd6f",
   "metadata": {
    "execution": {
     "iopub.execute_input": "2024-05-15T18:45:37.009775Z",
     "iopub.status.busy": "2024-05-15T18:45:37.009021Z",
     "iopub.status.idle": "2024-05-15T18:45:37.018279Z",
     "shell.execute_reply": "2024-05-15T18:45:37.016913Z"
    },
    "papermill": {
     "duration": 0.045917,
     "end_time": "2024-05-15T18:45:37.020875",
     "exception": false,
     "start_time": "2024-05-15T18:45:36.974958",
     "status": "completed"
    },
    "tags": []
   },
   "outputs": [
    {
     "data": {
      "text/plain": [
       "0"
      ]
     },
     "execution_count": 16,
     "metadata": {},
     "output_type": "execute_result"
    }
   ],
   "source": [
    "df.duplicated().sum()"
   ]
  },
  {
   "cell_type": "markdown",
   "id": "91558dca",
   "metadata": {
    "papermill": {
     "duration": 0.031426,
     "end_time": "2024-05-15T18:45:37.085281",
     "exception": false,
     "start_time": "2024-05-15T18:45:37.053855",
     "status": "completed"
    },
    "tags": []
   },
   "source": [
    "**Deleting time bcz of correlation**"
   ]
  },
  {
   "cell_type": "code",
   "execution_count": 17,
   "id": "0faf6040",
   "metadata": {
    "execution": {
     "iopub.execute_input": "2024-05-15T18:45:37.154124Z",
     "iopub.status.busy": "2024-05-15T18:45:37.153356Z",
     "iopub.status.idle": "2024-05-15T18:45:37.159384Z",
     "shell.execute_reply": "2024-05-15T18:45:37.158390Z"
    },
    "papermill": {
     "duration": 0.042615,
     "end_time": "2024-05-15T18:45:37.161778",
     "exception": false,
     "start_time": "2024-05-15T18:45:37.119163",
     "status": "completed"
    },
    "tags": []
   },
   "outputs": [],
   "source": [
    "df.drop(columns=['time'], inplace=True)"
   ]
  },
  {
   "cell_type": "markdown",
   "id": "99a2694c",
   "metadata": {
    "papermill": {
     "duration": 0.032059,
     "end_time": "2024-05-15T18:45:37.226173",
     "exception": false,
     "start_time": "2024-05-15T18:45:37.194114",
     "status": "completed"
    },
    "tags": []
   },
   "source": [
    "**X & Y**"
   ]
  },
  {
   "cell_type": "code",
   "execution_count": 18,
   "id": "12e8e180",
   "metadata": {
    "execution": {
     "iopub.execute_input": "2024-05-15T18:45:37.295987Z",
     "iopub.status.busy": "2024-05-15T18:45:37.294838Z",
     "iopub.status.idle": "2024-05-15T18:45:37.301532Z",
     "shell.execute_reply": "2024-05-15T18:45:37.300607Z"
    },
    "papermill": {
     "duration": 0.044326,
     "end_time": "2024-05-15T18:45:37.304002",
     "exception": false,
     "start_time": "2024-05-15T18:45:37.259676",
     "status": "completed"
    },
    "tags": []
   },
   "outputs": [],
   "source": [
    "x = df[['age', 'anaemia', 'creatinine_phosphokinase', 'diabetes',\n",
    "       'ejection_fraction', 'high_blood_pressure', 'platelets',\n",
    "       'serum_creatinine', 'serum_sodium', 'sex', 'smoking']]\n",
    "y = df['DEATH_EVENT']"
   ]
  },
  {
   "cell_type": "markdown",
   "id": "081c609f",
   "metadata": {
    "papermill": {
     "duration": 0.034234,
     "end_time": "2024-05-15T18:45:37.371005",
     "exception": false,
     "start_time": "2024-05-15T18:45:37.336771",
     "status": "completed"
    },
    "tags": []
   },
   "source": [
    "**Finding best Random State**"
   ]
  },
  {
   "cell_type": "code",
   "execution_count": 19,
   "id": "fbe3601f",
   "metadata": {
    "execution": {
     "iopub.execute_input": "2024-05-15T18:45:37.437463Z",
     "iopub.status.busy": "2024-05-15T18:45:37.436768Z",
     "iopub.status.idle": "2024-05-15T18:45:49.147324Z",
     "shell.execute_reply": "2024-05-15T18:45:49.146124Z"
    },
    "papermill": {
     "duration": 11.747493,
     "end_time": "2024-05-15T18:45:49.150239",
     "exception": false,
     "start_time": "2024-05-15T18:45:37.402746",
     "status": "completed"
    },
    "tags": []
   },
   "outputs": [
    {
     "name": "stdout",
     "output_type": "stream",
     "text": [
      "Best Random State: 47\n"
     ]
    }
   ],
   "source": [
    "train=[]\n",
    "test=[]\n",
    "cv=[]\n",
    "for i in range(0,101):\n",
    "    from sklearn.model_selection import train_test_split\n",
    "    x_train,x_test,y_train,y_test = train_test_split(x,y,test_size=0.2,random_state=i)\n",
    "    \n",
    "    from sklearn.linear_model import LogisticRegression\n",
    "    lr=LogisticRegression()\n",
    "    lr.fit(x_train,y_train)\n",
    "    \n",
    "    train_pred=lr.predict(x_train)\n",
    "    test_pred=lr.predict(x_test)\n",
    "    \n",
    "    from sklearn.metrics import accuracy_score\n",
    "    train.append(accuracy_score(y_train,train_pred))\n",
    "    test.append(accuracy_score(y_test,test_pred))\n",
    "    \n",
    "    from sklearn.model_selection import cross_val_score\n",
    "    cv.append(cross_val_score(lr,x_train,y_train,cv=5,scoring='accuracy').mean())\n",
    "    \n",
    "em = pd.DataFrame({'Train':train, 'Test':test, 'CV':cv})\n",
    "gm = em[(abs(em['Train']-em['Test'])<=0.05) & (abs(em['Test']-em['CV'])<=0.05)]\n",
    "rs = gm[gm['CV']==gm['CV'].max()].index.to_list()[0]\n",
    "print('Best Random State:',rs)"
   ]
  },
  {
   "cell_type": "markdown",
   "id": "8c7bb261",
   "metadata": {
    "papermill": {
     "duration": 0.031496,
     "end_time": "2024-05-15T18:45:49.213724",
     "exception": false,
     "start_time": "2024-05-15T18:45:49.182228",
     "status": "completed"
    },
    "tags": []
   },
   "source": [
    "**Train Test Split**"
   ]
  },
  {
   "cell_type": "code",
   "execution_count": 20,
   "id": "7f3b2e71",
   "metadata": {
    "execution": {
     "iopub.execute_input": "2024-05-15T18:45:49.279690Z",
     "iopub.status.busy": "2024-05-15T18:45:49.279251Z",
     "iopub.status.idle": "2024-05-15T18:45:49.287045Z",
     "shell.execute_reply": "2024-05-15T18:45:49.286196Z"
    },
    "papermill": {
     "duration": 0.044055,
     "end_time": "2024-05-15T18:45:49.289625",
     "exception": false,
     "start_time": "2024-05-15T18:45:49.245570",
     "status": "completed"
    },
    "tags": []
   },
   "outputs": [],
   "source": [
    "from sklearn.model_selection import train_test_split\n",
    "x_train,x_test,y_train,y_test = train_test_split(x,y,test_size=0.2,random_state=47)"
   ]
  },
  {
   "cell_type": "markdown",
   "id": "15d901ae",
   "metadata": {
    "papermill": {
     "duration": 0.031558,
     "end_time": "2024-05-15T18:45:49.353143",
     "exception": false,
     "start_time": "2024-05-15T18:45:49.321585",
     "status": "completed"
    },
    "tags": []
   },
   "source": [
    "**Feature Scaling**"
   ]
  },
  {
   "cell_type": "code",
   "execution_count": 21,
   "id": "057b9440",
   "metadata": {
    "execution": {
     "iopub.execute_input": "2024-05-15T18:45:49.419836Z",
     "iopub.status.busy": "2024-05-15T18:45:49.418642Z",
     "iopub.status.idle": "2024-05-15T18:45:49.430315Z",
     "shell.execute_reply": "2024-05-15T18:45:49.429363Z"
    },
    "papermill": {
     "duration": 0.047788,
     "end_time": "2024-05-15T18:45:49.432757",
     "exception": false,
     "start_time": "2024-05-15T18:45:49.384969",
     "status": "completed"
    },
    "tags": []
   },
   "outputs": [],
   "source": [
    "from sklearn.preprocessing import StandardScaler\n",
    "sc=StandardScaler()\n",
    "x_train = sc.fit_transform(x_train)\n",
    "x_test = sc.transform(x_test)"
   ]
  },
  {
   "cell_type": "markdown",
   "id": "a3c62fa7",
   "metadata": {
    "papermill": {
     "duration": 0.031234,
     "end_time": "2024-05-15T18:45:49.495591",
     "exception": false,
     "start_time": "2024-05-15T18:45:49.464357",
     "status": "completed"
    },
    "tags": []
   },
   "source": [
    "# Logistic Regression"
   ]
  },
  {
   "cell_type": "code",
   "execution_count": 22,
   "id": "1c646259",
   "metadata": {
    "execution": {
     "iopub.execute_input": "2024-05-15T18:45:49.561186Z",
     "iopub.status.busy": "2024-05-15T18:45:49.560707Z",
     "iopub.status.idle": "2024-05-15T18:45:49.602089Z",
     "shell.execute_reply": "2024-05-15T18:45:49.600625Z"
    },
    "papermill": {
     "duration": 0.077367,
     "end_time": "2024-05-15T18:45:49.604632",
     "exception": false,
     "start_time": "2024-05-15T18:45:49.527265",
     "status": "completed"
    },
    "tags": []
   },
   "outputs": [
    {
     "name": "stdout",
     "output_type": "stream",
     "text": [
      "Train Accuracy: 0.7949790794979079\n",
      "Test Accuracy: 0.65\n",
      "CV score: 0.7452127659574468\n"
     ]
    }
   ],
   "source": [
    "from sklearn.linear_model import LogisticRegression\n",
    "reg=LogisticRegression()\n",
    "reg.fit(x_train,y_train)\n",
    "\n",
    "train_pred=reg.predict(x_train)\n",
    "test_pred=reg.predict(x_test)\n",
    "#Evaluation\n",
    "print('Train Accuracy:',accuracy_score(y_train,train_pred))\n",
    "print('Test Accuracy:',accuracy_score(y_test,test_pred))\n",
    "\n",
    "print('CV score:',cross_val_score(reg,x_train,y_train,cv=5).mean())"
   ]
  },
  {
   "cell_type": "markdown",
   "id": "3adac549",
   "metadata": {
    "papermill": {
     "duration": 0.032907,
     "end_time": "2024-05-15T18:45:49.670219",
     "exception": false,
     "start_time": "2024-05-15T18:45:49.637312",
     "status": "completed"
    },
    "tags": []
   },
   "source": [
    "**Confusion Matrix**"
   ]
  },
  {
   "cell_type": "code",
   "execution_count": 23,
   "id": "5163edb3",
   "metadata": {
    "execution": {
     "iopub.execute_input": "2024-05-15T18:45:49.736451Z",
     "iopub.status.busy": "2024-05-15T18:45:49.735678Z",
     "iopub.status.idle": "2024-05-15T18:45:49.745130Z",
     "shell.execute_reply": "2024-05-15T18:45:49.743959Z"
    },
    "papermill": {
     "duration": 0.044935,
     "end_time": "2024-05-15T18:45:49.747400",
     "exception": false,
     "start_time": "2024-05-15T18:45:49.702465",
     "status": "completed"
    },
    "tags": []
   },
   "outputs": [
    {
     "data": {
      "text/plain": [
       "array([[30,  4],\n",
       "       [17,  9]])"
      ]
     },
     "execution_count": 23,
     "metadata": {},
     "output_type": "execute_result"
    }
   ],
   "source": [
    "from sklearn.metrics import confusion_matrix\n",
    "cm = confusion_matrix(y_test,test_pred)\n",
    "cm"
   ]
  },
  {
   "cell_type": "code",
   "execution_count": 24,
   "id": "92d5695f",
   "metadata": {
    "execution": {
     "iopub.execute_input": "2024-05-15T18:45:49.814379Z",
     "iopub.status.busy": "2024-05-15T18:45:49.813284Z",
     "iopub.status.idle": "2024-05-15T18:45:50.092630Z",
     "shell.execute_reply": "2024-05-15T18:45:50.091546Z"
    },
    "papermill": {
     "duration": 0.315114,
     "end_time": "2024-05-15T18:45:50.095212",
     "exception": false,
     "start_time": "2024-05-15T18:45:49.780098",
     "status": "completed"
    },
    "tags": []
   },
   "outputs": [
    {
     "data": {
      "image/png": "[encoded data removed]",
      "text/plain": [
       "<Figure size 640x480 with 2 Axes>"
      ]
     },
     "metadata": {},
     "output_type": "display_data"
    }
   ],
   "source": [
    "from sklearn.metrics import ConfusionMatrixDisplay\n",
    "ConfusionMatrixDisplay(cm,display_labels=df['DEATH_EVENT'].unique()).plot()\n",
    "plt.show()"
   ]
  },
  {
   "cell_type": "markdown",
   "id": "0d62adb0",
   "metadata": {
    "papermill": {
     "duration": 0.031756,
     "end_time": "2024-05-15T18:45:50.161734",
     "exception": false,
     "start_time": "2024-05-15T18:45:50.129978",
     "status": "completed"
    },
    "tags": []
   },
   "source": [
    "**Classification Report**"
   ]
  },
  {
   "cell_type": "code",
   "execution_count": 25,
   "id": "e09c024f",
   "metadata": {
    "execution": {
     "iopub.execute_input": "2024-05-15T18:45:50.228583Z",
     "iopub.status.busy": "2024-05-15T18:45:50.228042Z",
     "iopub.status.idle": "2024-05-15T18:45:50.243297Z",
     "shell.execute_reply": "2024-05-15T18:45:50.242308Z"
    },
    "papermill": {
     "duration": 0.051375,
     "end_time": "2024-05-15T18:45:50.245670",
     "exception": false,
     "start_time": "2024-05-15T18:45:50.194295",
     "status": "completed"
    },
    "tags": []
   },
   "outputs": [
    {
     "name": "stdout",
     "output_type": "stream",
     "text": [
      "              precision    recall  f1-score   support\n",
      "\n",
      "           0       0.64      0.88      0.74        34\n",
      "           1       0.69      0.35      0.46        26\n",
      "\n",
      "    accuracy                           0.65        60\n",
      "   macro avg       0.67      0.61      0.60        60\n",
      "weighted avg       0.66      0.65      0.62        60\n",
      "\n"
     ]
    }
   ],
   "source": [
    "from sklearn.metrics import classification_report\n",
    "print(classification_report(y_test,test_pred))"
   ]
  },
  {
   "cell_type": "markdown",
   "id": "72f57562",
   "metadata": {
    "papermill": {
     "duration": 0.031823,
     "end_time": "2024-05-15T18:45:50.310283",
     "exception": false,
     "start_time": "2024-05-15T18:45:50.278460",
     "status": "completed"
    },
    "tags": []
   },
   "source": [
    "**Receiver Operating Characteristic Curve & Area Under Curve**"
   ]
  },
  {
   "cell_type": "code",
   "execution_count": 26,
   "id": "7593bc70",
   "metadata": {
    "execution": {
     "iopub.execute_input": "2024-05-15T18:45:50.376384Z",
     "iopub.status.busy": "2024-05-15T18:45:50.375963Z",
     "iopub.status.idle": "2024-05-15T18:45:50.638796Z",
     "shell.execute_reply": "2024-05-15T18:45:50.637725Z"
    },
    "papermill": {
     "duration": 0.299148,
     "end_time": "2024-05-15T18:45:50.641462",
     "exception": false,
     "start_time": "2024-05-15T18:45:50.342314",
     "status": "completed"
    },
    "tags": []
   },
   "outputs": [
    {
     "data": {
      "image/png": "[encoded data removed]",
      "text/plain": [
       "<Figure size 640x480 with 1 Axes>"
      ]
     },
     "metadata": {},
     "output_type": "display_data"
    }
   ],
   "source": [
    "from sklearn.metrics import auc,roc_curve,RocCurveDisplay\n",
    "fpr, tpr, thresholds = roc_curve(y_test,test_pred)\n",
    "roc_auc = auc(fpr,tpr)\n",
    "RocCurveDisplay(fpr=fpr, tpr=tpr, roc_auc=roc_auc).plot()\n",
    "plt.show()"
   ]
  },
  {
   "cell_type": "markdown",
   "id": "54c47a75",
   "metadata": {
    "papermill": {
     "duration": 0.032353,
     "end_time": "2024-05-15T18:45:50.706740",
     "exception": false,
     "start_time": "2024-05-15T18:45:50.674387",
     "status": "completed"
    },
    "tags": []
   },
   "source": [
    "**Area Under Curve Score**"
   ]
  },
  {
   "cell_type": "code",
   "execution_count": 27,
   "id": "9e92dea3",
   "metadata": {
    "execution": {
     "iopub.execute_input": "2024-05-15T18:45:50.774037Z",
     "iopub.status.busy": "2024-05-15T18:45:50.773656Z",
     "iopub.status.idle": "2024-05-15T18:45:50.785867Z",
     "shell.execute_reply": "2024-05-15T18:45:50.784456Z"
    },
    "papermill": {
     "duration": 0.0487,
     "end_time": "2024-05-15T18:45:50.788124",
     "exception": false,
     "start_time": "2024-05-15T18:45:50.739424",
     "status": "completed"
    },
    "tags": []
   },
   "outputs": [
    {
     "name": "stdout",
     "output_type": "stream",
     "text": [
      "AUC Score: 0.6142533936651584\n"
     ]
    }
   ],
   "source": [
    "from sklearn.metrics import roc_auc_score\n",
    "print('AUC Score:',roc_auc_score(y_test,test_pred))"
   ]
  },
  {
   "cell_type": "markdown",
   "id": "30c17984",
   "metadata": {
    "papermill": {
     "duration": 0.032642,
     "end_time": "2024-05-15T18:45:50.853681",
     "exception": false,
     "start_time": "2024-05-15T18:45:50.821039",
     "status": "completed"
    },
    "tags": []
   },
   "source": [
    "# KNN"
   ]
  },
  {
   "cell_type": "markdown",
   "id": "cddeb0a0",
   "metadata": {
    "papermill": {
     "duration": 0.034075,
     "end_time": "2024-05-15T18:45:50.921282",
     "exception": false,
     "start_time": "2024-05-15T18:45:50.887207",
     "status": "completed"
    },
    "tags": []
   },
   "source": [
    "**HpyerParameter Tuning**(for finding best value of number of neighbors)"
   ]
  },
  {
   "cell_type": "code",
   "execution_count": 28,
   "id": "252427d2",
   "metadata": {
    "execution": {
     "iopub.execute_input": "2024-05-15T18:45:50.989293Z",
     "iopub.status.busy": "2024-05-15T18:45:50.988563Z",
     "iopub.status.idle": "2024-05-15T18:45:52.099010Z",
     "shell.execute_reply": "2024-05-15T18:45:52.097835Z"
    },
    "papermill": {
     "duration": 1.147494,
     "end_time": "2024-05-15T18:45:52.101608",
     "exception": false,
     "start_time": "2024-05-15T18:45:50.954114",
     "status": "completed"
    },
    "tags": []
   },
   "outputs": [
    {
     "data": {
      "text/plain": [
       "{'n_neighbors': 15}"
      ]
     },
     "execution_count": 28,
     "metadata": {},
     "output_type": "execute_result"
    }
   ],
   "source": [
    "from sklearn.model_selection import GridSearchCV\n",
    "from sklearn.neighbors import KNeighborsClassifier\n",
    "estimator=KNeighborsClassifier()\n",
    "param_grid={'n_neighbors':list(range(1,30))}\n",
    "\n",
    "model=GridSearchCV(estimator,param_grid,scoring='accuracy')\n",
    "model.fit(x_train,y_train)\n",
    "model.best_params_"
   ]
  },
  {
   "cell_type": "markdown",
   "id": "a893e628",
   "metadata": {
    "papermill": {
     "duration": 0.032785,
     "end_time": "2024-05-15T18:45:52.168187",
     "exception": false,
     "start_time": "2024-05-15T18:45:52.135402",
     "status": "completed"
    },
    "tags": []
   },
   "source": [
    "**Modeling**"
   ]
  },
  {
   "cell_type": "code",
   "execution_count": 29,
   "id": "dd0d1e16",
   "metadata": {
    "execution": {
     "iopub.execute_input": "2024-05-15T18:45:52.237144Z",
     "iopub.status.busy": "2024-05-15T18:45:52.236719Z",
     "iopub.status.idle": "2024-05-15T18:45:52.309103Z",
     "shell.execute_reply": "2024-05-15T18:45:52.307580Z"
    },
    "papermill": {
     "duration": 0.109871,
     "end_time": "2024-05-15T18:45:52.311633",
     "exception": false,
     "start_time": "2024-05-15T18:45:52.201762",
     "status": "completed"
    },
    "tags": []
   },
   "outputs": [
    {
     "name": "stdout",
     "output_type": "stream",
     "text": [
      "Train Accuracy: 0.7364016736401674\n",
      "Test Accuracy: 0.5833333333333334\n",
      "CV score: 0.7281028368794327\n"
     ]
    }
   ],
   "source": [
    "from sklearn.neighbors import KNeighborsClassifier\n",
    "knn = KNeighborsClassifier(n_neighbors=15)\n",
    "knn.fit(x_train,y_train)\n",
    "\n",
    "train_pred=knn.predict(x_train)\n",
    "test_pred=knn.predict(x_test)\n",
    "#Evaluation\n",
    "print('Train Accuracy:',accuracy_score(y_train,train_pred))\n",
    "print('Test Accuracy:',accuracy_score(y_test,test_pred))\n",
    "\n",
    "print('CV score:',cross_val_score(knn,x_train,y_train,cv=5,scoring='accuracy').mean())"
   ]
  },
  {
   "cell_type": "markdown",
   "id": "b70c3abf",
   "metadata": {
    "papermill": {
     "duration": 0.033086,
     "end_time": "2024-05-15T18:45:52.377992",
     "exception": false,
     "start_time": "2024-05-15T18:45:52.344906",
     "status": "completed"
    },
    "tags": []
   },
   "source": [
    "**Confusion Matrix**"
   ]
  },
  {
   "cell_type": "code",
   "execution_count": 30,
   "id": "1bec875a",
   "metadata": {
    "execution": {
     "iopub.execute_input": "2024-05-15T18:45:52.447065Z",
     "iopub.status.busy": "2024-05-15T18:45:52.446623Z",
     "iopub.status.idle": "2024-05-15T18:45:52.455294Z",
     "shell.execute_reply": "2024-05-15T18:45:52.454425Z"
    },
    "papermill": {
     "duration": 0.045833,
     "end_time": "2024-05-15T18:45:52.457645",
     "exception": false,
     "start_time": "2024-05-15T18:45:52.411812",
     "status": "completed"
    },
    "tags": []
   },
   "outputs": [
    {
     "data": {
      "text/plain": [
       "array([[34,  0],\n",
       "       [25,  1]])"
      ]
     },
     "execution_count": 30,
     "metadata": {},
     "output_type": "execute_result"
    }
   ],
   "source": [
    "from sklearn.metrics import confusion_matrix,ConfusionMatrixDisplay\n",
    "cm=confusion_matrix(y_test,test_pred)\n",
    "cm"
   ]
  },
  {
   "cell_type": "code",
   "execution_count": 31,
   "id": "32feee0b",
   "metadata": {
    "execution": {
     "iopub.execute_input": "2024-05-15T18:45:52.526443Z",
     "iopub.status.busy": "2024-05-15T18:45:52.526008Z",
     "iopub.status.idle": "2024-05-15T18:45:52.816753Z",
     "shell.execute_reply": "2024-05-15T18:45:52.815526Z"
    },
    "papermill": {
     "duration": 0.328486,
     "end_time": "2024-05-15T18:45:52.819642",
     "exception": false,
     "start_time": "2024-05-15T18:45:52.491156",
     "status": "completed"
    },
    "tags": []
   },
   "outputs": [
    {
     "data": {
      "image/png": "[encoded data removed]",
      "text/plain": [
       "<Figure size 640x480 with 2 Axes>"
      ]
     },
     "metadata": {},
     "output_type": "display_data"
    }
   ],
   "source": [
    "ConfusionMatrixDisplay(cm,display_labels=df['DEATH_EVENT'].unique()).plot()\n",
    "plt.show()"
   ]
  },
  {
   "cell_type": "markdown",
   "id": "d0ed25fb",
   "metadata": {
    "papermill": {
     "duration": 0.033603,
     "end_time": "2024-05-15T18:45:52.888112",
     "exception": false,
     "start_time": "2024-05-15T18:45:52.854509",
     "status": "completed"
    },
    "tags": []
   },
   "source": [
    "**Classification Report**"
   ]
  },
  {
   "cell_type": "code",
   "execution_count": 32,
   "id": "76594257",
   "metadata": {
    "execution": {
     "iopub.execute_input": "2024-05-15T18:45:52.959832Z",
     "iopub.status.busy": "2024-05-15T18:45:52.958735Z",
     "iopub.status.idle": "2024-05-15T18:45:52.973164Z",
     "shell.execute_reply": "2024-05-15T18:45:52.971463Z"
    },
    "papermill": {
     "duration": 0.052765,
     "end_time": "2024-05-15T18:45:52.975735",
     "exception": false,
     "start_time": "2024-05-15T18:45:52.922970",
     "status": "completed"
    },
    "tags": []
   },
   "outputs": [
    {
     "name": "stdout",
     "output_type": "stream",
     "text": [
      "              precision    recall  f1-score   support\n",
      "\n",
      "           0       0.58      1.00      0.73        34\n",
      "           1       1.00      0.04      0.07        26\n",
      "\n",
      "    accuracy                           0.58        60\n",
      "   macro avg       0.79      0.52      0.40        60\n",
      "weighted avg       0.76      0.58      0.45        60\n",
      "\n"
     ]
    }
   ],
   "source": [
    "from sklearn.metrics import classification_report\n",
    "print(classification_report(y_test,test_pred))"
   ]
  },
  {
   "cell_type": "markdown",
   "id": "55cc3233",
   "metadata": {
    "papermill": {
     "duration": 0.034023,
     "end_time": "2024-05-15T18:45:53.044620",
     "exception": false,
     "start_time": "2024-05-15T18:45:53.010597",
     "status": "completed"
    },
    "tags": []
   },
   "source": [
    "**Receiver Operating Characteristic Curve & Area Under Curve**"
   ]
  },
  {
   "cell_type": "code",
   "execution_count": 33,
   "id": "5d81c2d1",
   "metadata": {
    "execution": {
     "iopub.execute_input": "2024-05-15T18:45:53.115042Z",
     "iopub.status.busy": "2024-05-15T18:45:53.114639Z",
     "iopub.status.idle": "2024-05-15T18:45:53.373702Z",
     "shell.execute_reply": "2024-05-15T18:45:53.372423Z"
    },
    "papermill": {
     "duration": 0.297491,
     "end_time": "2024-05-15T18:45:53.376318",
     "exception": false,
     "start_time": "2024-05-15T18:45:53.078827",
     "status": "completed"
    },
    "tags": []
   },
   "outputs": [
    {
     "data": {
      "image/png": "[encoded data removed]",
      "text/plain": [
       "<Figure size 640x480 with 1 Axes>"
      ]
     },
     "metadata": {},
     "output_type": "display_data"
    }
   ],
   "source": [
    "from sklearn.metrics import auc,roc_curve,RocCurveDisplay\n",
    "fpr, tpr, thresholds = roc_curve(y_test,test_pred)\n",
    "roc_auc = auc(fpr,tpr)\n",
    "RocCurveDisplay(fpr=fpr, tpr=tpr, roc_auc=roc_auc).plot()\n",
    "plt.show()"
   ]
  },
  {
   "cell_type": "markdown",
   "id": "6c3431e2",
   "metadata": {
    "papermill": {
     "duration": 0.033871,
     "end_time": "2024-05-15T18:45:53.444515",
     "exception": false,
     "start_time": "2024-05-15T18:45:53.410644",
     "status": "completed"
    },
    "tags": []
   },
   "source": [
    "**Area Under Curve Score**"
   ]
  },
  {
   "cell_type": "code",
   "execution_count": 34,
   "id": "5a2b2b7e",
   "metadata": {
    "execution": {
     "iopub.execute_input": "2024-05-15T18:45:53.514845Z",
     "iopub.status.busy": "2024-05-15T18:45:53.514463Z",
     "iopub.status.idle": "2024-05-15T18:45:53.521853Z",
     "shell.execute_reply": "2024-05-15T18:45:53.521079Z"
    },
    "papermill": {
     "duration": 0.045462,
     "end_time": "2024-05-15T18:45:53.524215",
     "exception": false,
     "start_time": "2024-05-15T18:45:53.478753",
     "status": "completed"
    },
    "tags": []
   },
   "outputs": [
    {
     "name": "stdout",
     "output_type": "stream",
     "text": [
      "AUC Score: 0.5192307692307693\n"
     ]
    }
   ],
   "source": [
    "from sklearn.metrics import roc_auc_score\n",
    "print('AUC Score:',roc_auc_score(y_test,test_pred))"
   ]
  },
  {
   "cell_type": "markdown",
   "id": "6b7d9025",
   "metadata": {
    "papermill": {
     "duration": 0.034535,
     "end_time": "2024-05-15T18:45:53.593536",
     "exception": false,
     "start_time": "2024-05-15T18:45:53.559001",
     "status": "completed"
    },
    "tags": []
   },
   "source": [
    "# SVM"
   ]
  },
  {
   "cell_type": "markdown",
   "id": "c41e7065",
   "metadata": {
    "papermill": {
     "duration": 0.034906,
     "end_time": "2024-05-15T18:45:53.663262",
     "exception": false,
     "start_time": "2024-05-15T18:45:53.628356",
     "status": "completed"
    },
    "tags": []
   },
   "source": [
    "**HyperParameter Tuning**(for finding best value of C and kernel)"
   ]
  },
  {
   "cell_type": "code",
   "execution_count": 35,
   "id": "0a54847b",
   "metadata": {
    "execution": {
     "iopub.execute_input": "2024-05-15T18:45:53.735371Z",
     "iopub.status.busy": "2024-05-15T18:45:53.734537Z",
     "iopub.status.idle": "2024-05-15T18:46:25.773252Z",
     "shell.execute_reply": "2024-05-15T18:46:25.772131Z"
    },
    "papermill": {
     "duration": 32.112306,
     "end_time": "2024-05-15T18:46:25.810040",
     "exception": false,
     "start_time": "2024-05-15T18:45:53.697734",
     "status": "completed"
    },
    "tags": []
   },
   "outputs": [
    {
     "data": {
      "text/plain": [
       "{'C': 2, 'kernel': 'sigmoid'}"
      ]
     },
     "execution_count": 35,
     "metadata": {},
     "output_type": "execute_result"
    }
   ],
   "source": [
    "from sklearn.model_selection import GridSearchCV\n",
    "from sklearn.svm import SVC\n",
    "estimator=SVC()\n",
    "param_grid = {'C':list(range(1,100)), 'kernel':['linear','polynomial','rbf','sigmoid']}\n",
    "model=GridSearchCV(estimator, param_grid, cv=5, scoring='accuracy')\n",
    "model.fit(x_train,y_train)\n",
    "model.best_params_"
   ]
  },
  {
   "cell_type": "markdown",
   "id": "15452589",
   "metadata": {
    "papermill": {
     "duration": 0.034585,
     "end_time": "2024-05-15T18:46:25.879273",
     "exception": false,
     "start_time": "2024-05-15T18:46:25.844688",
     "status": "completed"
    },
    "tags": []
   },
   "source": [
    "**Modeling**"
   ]
  },
  {
   "cell_type": "code",
   "execution_count": 36,
   "id": "c63df915",
   "metadata": {
    "execution": {
     "iopub.execute_input": "2024-05-15T18:46:25.951142Z",
     "iopub.status.busy": "2024-05-15T18:46:25.950701Z",
     "iopub.status.idle": "2024-05-15T18:46:25.996044Z",
     "shell.execute_reply": "2024-05-15T18:46:25.995243Z"
    },
    "papermill": {
     "duration": 0.084215,
     "end_time": "2024-05-15T18:46:25.998374",
     "exception": false,
     "start_time": "2024-05-15T18:46:25.914159",
     "status": "completed"
    },
    "tags": []
   },
   "outputs": [
    {
     "name": "stdout",
     "output_type": "stream",
     "text": [
      "Train Accuracy: 0.7322175732217573\n",
      "Test Accuracy: 0.7\n",
      "CV score: 0.7786347517730496\n"
     ]
    }
   ],
   "source": [
    "svm=SVC(C=2,kernel='sigmoid')\n",
    "svm.fit(x_train,y_train)\n",
    "\n",
    "train_pred=svm.predict(x_train)\n",
    "test_pred=svm.predict(x_test)\n",
    "#Evaluation\n",
    "print('Train Accuracy:',accuracy_score(y_train,train_pred))\n",
    "print('Test Accuracy:',accuracy_score(y_test,test_pred))\n",
    "\n",
    "print('CV score:',cross_val_score(svm,x_train,y_train,cv=5,scoring='accuracy').mean())"
   ]
  },
  {
   "cell_type": "markdown",
   "id": "d5782c53",
   "metadata": {
    "papermill": {
     "duration": 0.035522,
     "end_time": "2024-05-15T18:46:26.070367",
     "exception": false,
     "start_time": "2024-05-15T18:46:26.034845",
     "status": "completed"
    },
    "tags": []
   },
   "source": [
    "**Confusion Matrix**"
   ]
  },
  {
   "cell_type": "code",
   "execution_count": 37,
   "id": "7bf391bf",
   "metadata": {
    "execution": {
     "iopub.execute_input": "2024-05-15T18:46:26.142585Z",
     "iopub.status.busy": "2024-05-15T18:46:26.141833Z",
     "iopub.status.idle": "2024-05-15T18:46:26.151242Z",
     "shell.execute_reply": "2024-05-15T18:46:26.150344Z"
    },
    "papermill": {
     "duration": 0.048032,
     "end_time": "2024-05-15T18:46:26.153565",
     "exception": false,
     "start_time": "2024-05-15T18:46:26.105533",
     "status": "completed"
    },
    "tags": []
   },
   "outputs": [
    {
     "data": {
      "text/plain": [
       "array([[29,  5],\n",
       "       [13, 13]])"
      ]
     },
     "execution_count": 37,
     "metadata": {},
     "output_type": "execute_result"
    }
   ],
   "source": [
    "from sklearn.metrics import confusion_matrix,ConfusionMatrixDisplay\n",
    "cm=confusion_matrix(y_test,test_pred)\n",
    "cm"
   ]
  },
  {
   "cell_type": "code",
   "execution_count": 38,
   "id": "20226921",
   "metadata": {
    "execution": {
     "iopub.execute_input": "2024-05-15T18:46:26.226971Z",
     "iopub.status.busy": "2024-05-15T18:46:26.226265Z",
     "iopub.status.idle": "2024-05-15T18:46:26.487572Z",
     "shell.execute_reply": "2024-05-15T18:46:26.486356Z"
    },
    "papermill": {
     "duration": 0.301207,
     "end_time": "2024-05-15T18:46:26.490198",
     "exception": false,
     "start_time": "2024-05-15T18:46:26.188991",
     "status": "completed"
    },
    "tags": []
   },
   "outputs": [
    {
     "data": {
      "image/png": "[encoded data removed]",
      "text/plain": [
       "<Figure size 640x480 with 2 Axes>"
      ]
     },
     "metadata": {},
     "output_type": "display_data"
    }
   ],
   "source": [
    "ConfusionMatrixDisplay(cm,display_labels=df['DEATH_EVENT'].unique()).plot()\n",
    "plt.show()"
   ]
  },
  {
   "cell_type": "markdown",
   "id": "d1c3c571",
   "metadata": {
    "papermill": {
     "duration": 0.036126,
     "end_time": "2024-05-15T18:46:26.562821",
     "exception": false,
     "start_time": "2024-05-15T18:46:26.526695",
     "status": "completed"
    },
    "tags": []
   },
   "source": [
    "**Classification Report**"
   ]
  },
  {
   "cell_type": "code",
   "execution_count": 39,
   "id": "db4c3874",
   "metadata": {
    "execution": {
     "iopub.execute_input": "2024-05-15T18:46:26.635424Z",
     "iopub.status.busy": "2024-05-15T18:46:26.635007Z",
     "iopub.status.idle": "2024-05-15T18:46:26.651341Z",
     "shell.execute_reply": "2024-05-15T18:46:26.649913Z"
    },
    "papermill": {
     "duration": 0.05574,
     "end_time": "2024-05-15T18:46:26.653822",
     "exception": false,
     "start_time": "2024-05-15T18:46:26.598082",
     "status": "completed"
    },
    "tags": []
   },
   "outputs": [
    {
     "name": "stdout",
     "output_type": "stream",
     "text": [
      "              precision    recall  f1-score   support\n",
      "\n",
      "           0       0.69      0.85      0.76        34\n",
      "           1       0.72      0.50      0.59        26\n",
      "\n",
      "    accuracy                           0.70        60\n",
      "   macro avg       0.71      0.68      0.68        60\n",
      "weighted avg       0.70      0.70      0.69        60\n",
      "\n"
     ]
    }
   ],
   "source": [
    "from sklearn.metrics import classification_report\n",
    "print(classification_report(y_test,test_pred))"
   ]
  },
  {
   "cell_type": "markdown",
   "id": "58d58bab",
   "metadata": {
    "papermill": {
     "duration": 0.035171,
     "end_time": "2024-05-15T18:46:26.724460",
     "exception": false,
     "start_time": "2024-05-15T18:46:26.689289",
     "status": "completed"
    },
    "tags": []
   },
   "source": [
    "**Receiver Operating Characteristic Curve** & **Area Under Curve**"
   ]
  },
  {
   "cell_type": "code",
   "execution_count": 40,
   "id": "6516ebab",
   "metadata": {
    "execution": {
     "iopub.execute_input": "2024-05-15T18:46:26.798039Z",
     "iopub.status.busy": "2024-05-15T18:46:26.797039Z",
     "iopub.status.idle": "2024-05-15T18:46:27.060391Z",
     "shell.execute_reply": "2024-05-15T18:46:27.059436Z"
    },
    "papermill": {
     "duration": 0.302351,
     "end_time": "2024-05-15T18:46:27.062627",
     "exception": false,
     "start_time": "2024-05-15T18:46:26.760276",
     "status": "completed"
    },
    "tags": []
   },
   "outputs": [
    {
     "data": {
      "image/png": "[encoded data removed]",
      "text/plain": [
       "<Figure size 640x480 with 1 Axes>"
      ]
     },
     "metadata": {},
     "output_type": "display_data"
    }
   ],
   "source": [
    "from sklearn.metrics import auc,roc_curve,RocCurveDisplay\n",
    "fpr, tpr, thresholds = roc_curve(y_test,test_pred)\n",
    "roc_auc = auc(fpr,tpr)\n",
    "RocCurveDisplay(fpr=fpr, tpr=tpr, roc_auc=roc_auc).plot()\n",
    "plt.show()"
   ]
  },
  {
   "cell_type": "markdown",
   "id": "3876cd19",
   "metadata": {
    "papermill": {
     "duration": 0.035479,
     "end_time": "2024-05-15T18:46:27.134028",
     "exception": false,
     "start_time": "2024-05-15T18:46:27.098549",
     "status": "completed"
    },
    "tags": []
   },
   "source": [
    "**Area Under Curve Score**"
   ]
  },
  {
   "cell_type": "code",
   "execution_count": 41,
   "id": "68b82880",
   "metadata": {
    "execution": {
     "iopub.execute_input": "2024-05-15T18:46:27.208452Z",
     "iopub.status.busy": "2024-05-15T18:46:27.207165Z",
     "iopub.status.idle": "2024-05-15T18:46:27.215433Z",
     "shell.execute_reply": "2024-05-15T18:46:27.214295Z"
    },
    "papermill": {
     "duration": 0.047588,
     "end_time": "2024-05-15T18:46:27.217531",
     "exception": false,
     "start_time": "2024-05-15T18:46:27.169943",
     "status": "completed"
    },
    "tags": []
   },
   "outputs": [
    {
     "name": "stdout",
     "output_type": "stream",
     "text": [
      "AUC Score: 0.676470588235294\n"
     ]
    }
   ],
   "source": [
    "from sklearn.metrics import roc_auc_score\n",
    "print('AUC Score:',roc_auc_score(y_test,test_pred))"
   ]
  },
  {
   "cell_type": "markdown",
   "id": "3b9b762d",
   "metadata": {
    "papermill": {
     "duration": 0.03581,
     "end_time": "2024-05-15T18:46:27.290020",
     "exception": false,
     "start_time": "2024-05-15T18:46:27.254210",
     "status": "completed"
    },
    "tags": []
   },
   "source": [
    "# Decision Tree"
   ]
  },
  {
   "cell_type": "markdown",
   "id": "1d51b9ab",
   "metadata": {
    "papermill": {
     "duration": 0.036679,
     "end_time": "2024-05-15T18:46:27.362603",
     "exception": false,
     "start_time": "2024-05-15T18:46:27.325924",
     "status": "completed"
    },
    "tags": []
   },
   "source": [
    "**HyperParameter Tuning** (to find whether to use entropy or gini)"
   ]
  },
  {
   "cell_type": "code",
   "execution_count": 42,
   "id": "7f63a462",
   "metadata": {
    "execution": {
     "iopub.execute_input": "2024-05-15T18:46:27.437739Z",
     "iopub.status.busy": "2024-05-15T18:46:27.436778Z",
     "iopub.status.idle": "2024-05-15T18:46:27.521685Z",
     "shell.execute_reply": "2024-05-15T18:46:27.520315Z"
    },
    "papermill": {
     "duration": 0.124813,
     "end_time": "2024-05-15T18:46:27.524101",
     "exception": false,
     "start_time": "2024-05-15T18:46:27.399288",
     "status": "completed"
    },
    "tags": []
   },
   "outputs": [
    {
     "data": {
      "text/plain": [
       "{'criterion': 'entropy'}"
      ]
     },
     "execution_count": 42,
     "metadata": {},
     "output_type": "execute_result"
    }
   ],
   "source": [
    "from sklearn.model_selection import GridSearchCV\n",
    "from sklearn.tree import DecisionTreeClassifier\n",
    "estimator=DecisionTreeClassifier()\n",
    "param_grid={'criterion':['gini','entropy']}\n",
    "model=GridSearchCV(estimator, param_grid, cv=5, scoring='accuracy')\n",
    "model.fit(x_train,y_train)\n",
    "model.best_params_"
   ]
  },
  {
   "cell_type": "markdown",
   "id": "552e811e",
   "metadata": {
    "papermill": {
     "duration": 0.035987,
     "end_time": "2024-05-15T18:46:27.596246",
     "exception": false,
     "start_time": "2024-05-15T18:46:27.560259",
     "status": "completed"
    },
    "tags": []
   },
   "source": [
    "**Modeling**"
   ]
  },
  {
   "cell_type": "code",
   "execution_count": 43,
   "id": "784b5d23",
   "metadata": {
    "execution": {
     "iopub.execute_input": "2024-05-15T18:46:27.670676Z",
     "iopub.status.busy": "2024-05-15T18:46:27.670254Z",
     "iopub.status.idle": "2024-05-15T18:46:27.701449Z",
     "shell.execute_reply": "2024-05-15T18:46:27.700201Z"
    },
    "papermill": {
     "duration": 0.071575,
     "end_time": "2024-05-15T18:46:27.704140",
     "exception": false,
     "start_time": "2024-05-15T18:46:27.632565",
     "status": "completed"
    },
    "tags": []
   },
   "outputs": [
    {
     "name": "stdout",
     "output_type": "stream",
     "text": [
      "Train Accuracy: 1.0\n",
      "Test Accuracy: 0.65\n",
      "CV score: 0.7236702127659574\n"
     ]
    }
   ],
   "source": [
    "from sklearn.tree import DecisionTreeClassifier\n",
    "dt=DecisionTreeClassifier(criterion='entropy')\n",
    "dt.fit(x_train,y_train)\n",
    "\n",
    "train_pred=dt.predict(x_train)\n",
    "test_pred=dt.predict(x_test)\n",
    "#Evaluation\n",
    "print('Train Accuracy:',accuracy_score(y_train,train_pred))\n",
    "print('Test Accuracy:',accuracy_score(y_test,test_pred))\n",
    "\n",
    "print('CV score:',cross_val_score(dt,x_train,y_train,cv=5,scoring='accuracy').mean())"
   ]
  },
  {
   "cell_type": "markdown",
   "id": "c8142a97",
   "metadata": {
    "papermill": {
     "duration": 0.036551,
     "end_time": "2024-05-15T18:46:27.777260",
     "exception": false,
     "start_time": "2024-05-15T18:46:27.740709",
     "status": "completed"
    },
    "tags": []
   },
   "source": [
    "**Confusion Matrix**"
   ]
  },
  {
   "cell_type": "code",
   "execution_count": 44,
   "id": "44991e03",
   "metadata": {
    "execution": {
     "iopub.execute_input": "2024-05-15T18:46:27.855693Z",
     "iopub.status.busy": "2024-05-15T18:46:27.855270Z",
     "iopub.status.idle": "2024-05-15T18:46:27.865308Z",
     "shell.execute_reply": "2024-05-15T18:46:27.864168Z"
    },
    "papermill": {
     "duration": 0.051054,
     "end_time": "2024-05-15T18:46:27.867752",
     "exception": false,
     "start_time": "2024-05-15T18:46:27.816698",
     "status": "completed"
    },
    "tags": []
   },
   "outputs": [
    {
     "data": {
      "text/plain": [
       "array([[25,  9],\n",
       "       [12, 14]])"
      ]
     },
     "execution_count": 44,
     "metadata": {},
     "output_type": "execute_result"
    }
   ],
   "source": [
    "from sklearn.metrics import confusion_matrix,ConfusionMatrixDisplay\n",
    "cm=confusion_matrix(y_test,test_pred)\n",
    "cm"
   ]
  },
  {
   "cell_type": "code",
   "execution_count": 45,
   "id": "5bc79a02",
   "metadata": {
    "execution": {
     "iopub.execute_input": "2024-05-15T18:46:27.953888Z",
     "iopub.status.busy": "2024-05-15T18:46:27.953336Z",
     "iopub.status.idle": "2024-05-15T18:46:28.350647Z",
     "shell.execute_reply": "2024-05-15T18:46:28.349477Z"
    },
    "papermill": {
     "duration": 0.447431,
     "end_time": "2024-05-15T18:46:28.353590",
     "exception": false,
     "start_time": "2024-05-15T18:46:27.906159",
     "status": "completed"
    },
    "tags": []
   },
   "outputs": [
    {
     "data": {
      "image/png": "[encoded data removed]",
      "text/plain": [
       "<Figure size 640x480 with 2 Axes>"
      ]
     },
     "metadata": {},
     "output_type": "display_data"
    }
   ],
   "source": [
    "ConfusionMatrixDisplay(cm,display_labels=df['DEATH_EVENT'].unique()).plot()\n",
    "plt.show()"
   ]
  },
  {
   "cell_type": "markdown",
   "id": "c6a328ce",
   "metadata": {
    "papermill": {
     "duration": 0.037422,
     "end_time": "2024-05-15T18:46:28.427922",
     "exception": false,
     "start_time": "2024-05-15T18:46:28.390500",
     "status": "completed"
    },
    "tags": []
   },
   "source": [
    "**Classification Report**"
   ]
  },
  {
   "cell_type": "code",
   "execution_count": 46,
   "id": "678955ee",
   "metadata": {
    "execution": {
     "iopub.execute_input": "2024-05-15T18:46:28.504137Z",
     "iopub.status.busy": "2024-05-15T18:46:28.503741Z",
     "iopub.status.idle": "2024-05-15T18:46:28.519425Z",
     "shell.execute_reply": "2024-05-15T18:46:28.518630Z"
    },
    "papermill": {
     "duration": 0.05707,
     "end_time": "2024-05-15T18:46:28.521884",
     "exception": false,
     "start_time": "2024-05-15T18:46:28.464814",
     "status": "completed"
    },
    "tags": []
   },
   "outputs": [
    {
     "name": "stdout",
     "output_type": "stream",
     "text": [
      "              precision    recall  f1-score   support\n",
      "\n",
      "           0       0.68      0.74      0.70        34\n",
      "           1       0.61      0.54      0.57        26\n",
      "\n",
      "    accuracy                           0.65        60\n",
      "   macro avg       0.64      0.64      0.64        60\n",
      "weighted avg       0.65      0.65      0.65        60\n",
      "\n"
     ]
    }
   ],
   "source": [
    "from sklearn.metrics import classification_report\n",
    "print(classification_report(y_test,test_pred))"
   ]
  },
  {
   "cell_type": "markdown",
   "id": "6938a9df",
   "metadata": {
    "papermill": {
     "duration": 0.036843,
     "end_time": "2024-05-15T18:46:28.595959",
     "exception": false,
     "start_time": "2024-05-15T18:46:28.559116",
     "status": "completed"
    },
    "tags": []
   },
   "source": [
    "**Receiver Operating Characteristic Curve & Area Under Curve**"
   ]
  },
  {
   "cell_type": "code",
   "execution_count": 47,
   "id": "5425d161",
   "metadata": {
    "execution": {
     "iopub.execute_input": "2024-05-15T18:46:28.672922Z",
     "iopub.status.busy": "2024-05-15T18:46:28.671748Z",
     "iopub.status.idle": "2024-05-15T18:46:28.927752Z",
     "shell.execute_reply": "2024-05-15T18:46:28.926534Z"
    },
    "papermill": {
     "duration": 0.297065,
     "end_time": "2024-05-15T18:46:28.930289",
     "exception": false,
     "start_time": "2024-05-15T18:46:28.633224",
     "status": "completed"
    },
    "tags": []
   },
   "outputs": [
    {
     "data": {
      "image/png": "[encoded data removed]",
      "text/plain": [
       "<Figure size 640x480 with 1 Axes>"
      ]
     },
     "metadata": {},
     "output_type": "display_data"
    }
   ],
   "source": [
    "from sklearn.metrics import auc,roc_curve,RocCurveDisplay\n",
    "fpr, tpr, thresholds = roc_curve(y_test,test_pred)\n",
    "roc_auc = auc(fpr,tpr)\n",
    "RocCurveDisplay(fpr=fpr, tpr=tpr, roc_auc=roc_auc).plot()\n",
    "plt.show()"
   ]
  },
  {
   "cell_type": "markdown",
   "id": "8b82e51d",
   "metadata": {
    "papermill": {
     "duration": 0.037976,
     "end_time": "2024-05-15T18:46:29.006822",
     "exception": false,
     "start_time": "2024-05-15T18:46:28.968846",
     "status": "completed"
    },
    "tags": []
   },
   "source": [
    "**Area Under Curve Score**"
   ]
  },
  {
   "cell_type": "code",
   "execution_count": 48,
   "id": "3e20263c",
   "metadata": {
    "execution": {
     "iopub.execute_input": "2024-05-15T18:46:29.085304Z",
     "iopub.status.busy": "2024-05-15T18:46:29.084540Z",
     "iopub.status.idle": "2024-05-15T18:46:29.094032Z",
     "shell.execute_reply": "2024-05-15T18:46:29.092878Z"
    },
    "papermill": {
     "duration": 0.051973,
     "end_time": "2024-05-15T18:46:29.096425",
     "exception": false,
     "start_time": "2024-05-15T18:46:29.044452",
     "status": "completed"
    },
    "tags": []
   },
   "outputs": [
    {
     "name": "stdout",
     "output_type": "stream",
     "text": [
      "AUC Score: 0.6368778280542986\n"
     ]
    }
   ],
   "source": [
    "from sklearn.metrics import roc_auc_score\n",
    "print('AUC Score:',roc_auc_score(y_test,test_pred))"
   ]
  },
  {
   "cell_type": "markdown",
   "id": "5d1c79c5",
   "metadata": {
    "papermill": {
     "duration": 0.037132,
     "end_time": "2024-05-15T18:46:29.171004",
     "exception": false,
     "start_time": "2024-05-15T18:46:29.133872",
     "status": "completed"
    },
    "tags": []
   },
   "source": [
    "# Random Forest Search"
   ]
  },
  {
   "cell_type": "markdown",
   "id": "9171aef0",
   "metadata": {
    "papermill": {
     "duration": 0.037581,
     "end_time": "2024-05-15T18:46:29.246168",
     "exception": false,
     "start_time": "2024-05-15T18:46:29.208587",
     "status": "completed"
    },
    "tags": []
   },
   "source": [
    "**HyperParameter Tunnig** (for finding best estimators)"
   ]
  },
  {
   "cell_type": "code",
   "execution_count": 49,
   "id": "807e57dc",
   "metadata": {
    "execution": {
     "iopub.execute_input": "2024-05-15T18:46:29.324123Z",
     "iopub.status.busy": "2024-05-15T18:46:29.323041Z",
     "iopub.status.idle": "2024-05-15T18:47:29.650216Z",
     "shell.execute_reply": "2024-05-15T18:47:29.648899Z"
    },
    "papermill": {
     "duration": 60.408449,
     "end_time": "2024-05-15T18:47:29.692029",
     "exception": false,
     "start_time": "2024-05-15T18:46:29.283580",
     "status": "completed"
    },
    "tags": []
   },
   "outputs": [
    {
     "data": {
      "text/plain": [
       "{'n_estimators': 83}"
      ]
     },
     "execution_count": 49,
     "metadata": {},
     "output_type": "execute_result"
    }
   ],
   "source": [
    "from sklearn.model_selection import GridSearchCV\n",
    "from sklearn.ensemble import RandomForestClassifier\n",
    "estimator = RandomForestClassifier(random_state=0)\n",
    "param_grid = {'n_estimators':list(range(1,100))}\n",
    "\n",
    "grid = GridSearchCV(estimator,param_grid,cv=5,scoring='accuracy')\n",
    "grid.fit(x_train,y_train)\n",
    "grid.best_params_"
   ]
  },
  {
   "cell_type": "markdown",
   "id": "c1f19269",
   "metadata": {
    "papermill": {
     "duration": 0.037706,
     "end_time": "2024-05-15T18:47:29.768571",
     "exception": false,
     "start_time": "2024-05-15T18:47:29.730865",
     "status": "completed"
    },
    "tags": []
   },
   "source": [
    "**Modeling**"
   ]
  },
  {
   "cell_type": "code",
   "execution_count": 50,
   "id": "c599f26f",
   "metadata": {
    "execution": {
     "iopub.execute_input": "2024-05-15T18:47:29.846515Z",
     "iopub.status.busy": "2024-05-15T18:47:29.846125Z",
     "iopub.status.idle": "2024-05-15T18:47:31.072787Z",
     "shell.execute_reply": "2024-05-15T18:47:31.071388Z"
    },
    "papermill": {
     "duration": 1.268707,
     "end_time": "2024-05-15T18:47:31.075468",
     "exception": false,
     "start_time": "2024-05-15T18:47:29.806761",
     "status": "completed"
    },
    "tags": []
   },
   "outputs": [
    {
     "name": "stdout",
     "output_type": "stream",
     "text": [
      "Train Accuracy: 1.0\n",
      "Test Accuracy: 0.65\n",
      "CV score: 0.7658687943262412\n"
     ]
    }
   ],
   "source": [
    "from sklearn.ensemble import RandomForestClassifier\n",
    "rfc = RandomForestClassifier(n_estimators=83)\n",
    "rfc.fit(x_train,y_train)\n",
    "\n",
    "train_pred = rfc.predict(x_train)\n",
    "test_pred = rfc.predict(x_test)\n",
    "\n",
    "from sklearn.metrics import accuracy_score\n",
    "print('Train Accuracy:',accuracy_score(y_train,train_pred))\n",
    "print('Test Accuracy:',accuracy_score(y_test,test_pred))\n",
    "\n",
    "from sklearn.model_selection import cross_val_score\n",
    "print('CV score:',cross_val_score(rfc,x_train,y_train,cv=5,scoring='accuracy').mean())"
   ]
  },
  {
   "cell_type": "markdown",
   "id": "2adbb291",
   "metadata": {
    "papermill": {
     "duration": 0.038044,
     "end_time": "2024-05-15T18:47:31.151588",
     "exception": false,
     "start_time": "2024-05-15T18:47:31.113544",
     "status": "completed"
    },
    "tags": []
   },
   "source": [
    "**Confusion Matrix**"
   ]
  },
  {
   "cell_type": "code",
   "execution_count": 51,
   "id": "b168622e",
   "metadata": {
    "execution": {
     "iopub.execute_input": "2024-05-15T18:47:31.229764Z",
     "iopub.status.busy": "2024-05-15T18:47:31.229395Z",
     "iopub.status.idle": "2024-05-15T18:47:31.240319Z",
     "shell.execute_reply": "2024-05-15T18:47:31.239129Z"
    },
    "papermill": {
     "duration": 0.053388,
     "end_time": "2024-05-15T18:47:31.242851",
     "exception": false,
     "start_time": "2024-05-15T18:47:31.189463",
     "status": "completed"
    },
    "tags": []
   },
   "outputs": [
    {
     "data": {
      "text/plain": [
       "array([[28,  6],\n",
       "       [15, 11]])"
      ]
     },
     "execution_count": 51,
     "metadata": {},
     "output_type": "execute_result"
    }
   ],
   "source": [
    "from sklearn.metrics import confusion_matrix,ConfusionMatrixDisplay\n",
    "cm=confusion_matrix(y_test,test_pred)\n",
    "cm"
   ]
  },
  {
   "cell_type": "code",
   "execution_count": 52,
   "id": "433af685",
   "metadata": {
    "execution": {
     "iopub.execute_input": "2024-05-15T18:47:31.324003Z",
     "iopub.status.busy": "2024-05-15T18:47:31.323604Z",
     "iopub.status.idle": "2024-05-15T18:47:31.629727Z",
     "shell.execute_reply": "2024-05-15T18:47:31.628499Z"
    },
    "papermill": {
     "duration": 0.350145,
     "end_time": "2024-05-15T18:47:31.632224",
     "exception": false,
     "start_time": "2024-05-15T18:47:31.282079",
     "status": "completed"
    },
    "tags": []
   },
   "outputs": [
    {
     "data": {
      "image/png": "[encoded data removed]",
      "text/plain": [
       "<Figure size 640x480 with 2 Axes>"
      ]
     },
     "metadata": {},
     "output_type": "display_data"
    }
   ],
   "source": [
    "ConfusionMatrixDisplay(cm,display_labels=df['DEATH_EVENT'].unique()).plot()\n",
    "plt.show()"
   ]
  },
  {
   "cell_type": "markdown",
   "id": "be8bd1de",
   "metadata": {
    "papermill": {
     "duration": 0.038774,
     "end_time": "2024-05-15T18:47:31.710322",
     "exception": false,
     "start_time": "2024-05-15T18:47:31.671548",
     "status": "completed"
    },
    "tags": []
   },
   "source": [
    "**Classification Report**"
   ]
  },
  {
   "cell_type": "code",
   "execution_count": 53,
   "id": "284ee104",
   "metadata": {
    "execution": {
     "iopub.execute_input": "2024-05-15T18:47:31.790477Z",
     "iopub.status.busy": "2024-05-15T18:47:31.790087Z",
     "iopub.status.idle": "2024-05-15T18:47:31.806408Z",
     "shell.execute_reply": "2024-05-15T18:47:31.804699Z"
    },
    "papermill": {
     "duration": 0.059273,
     "end_time": "2024-05-15T18:47:31.808875",
     "exception": false,
     "start_time": "2024-05-15T18:47:31.749602",
     "status": "completed"
    },
    "tags": []
   },
   "outputs": [
    {
     "name": "stdout",
     "output_type": "stream",
     "text": [
      "              precision    recall  f1-score   support\n",
      "\n",
      "           0       0.65      0.82      0.73        34\n",
      "           1       0.65      0.42      0.51        26\n",
      "\n",
      "    accuracy                           0.65        60\n",
      "   macro avg       0.65      0.62      0.62        60\n",
      "weighted avg       0.65      0.65      0.63        60\n",
      "\n"
     ]
    }
   ],
   "source": [
    "from sklearn.metrics import classification_report\n",
    "print(classification_report(y_test,test_pred))"
   ]
  },
  {
   "cell_type": "markdown",
   "id": "73f171c0",
   "metadata": {
    "papermill": {
     "duration": 0.039329,
     "end_time": "2024-05-15T18:47:31.888423",
     "exception": false,
     "start_time": "2024-05-15T18:47:31.849094",
     "status": "completed"
    },
    "tags": []
   },
   "source": [
    "**Receiver Operating Characteristic Curve & Area Under Curve**"
   ]
  },
  {
   "cell_type": "code",
   "execution_count": 54,
   "id": "6206d488",
   "metadata": {
    "execution": {
     "iopub.execute_input": "2024-05-15T18:47:31.970741Z",
     "iopub.status.busy": "2024-05-15T18:47:31.968934Z",
     "iopub.status.idle": "2024-05-15T18:47:32.231647Z",
     "shell.execute_reply": "2024-05-15T18:47:32.230424Z"
    },
    "papermill": {
     "duration": 0.306283,
     "end_time": "2024-05-15T18:47:32.234185",
     "exception": false,
     "start_time": "2024-05-15T18:47:31.927902",
     "status": "completed"
    },
    "tags": []
   },
   "outputs": [
    {
     "data": {
      "image/png": "[encoded data removed]",
      "text/plain": [
       "<Figure size 640x480 with 1 Axes>"
      ]
     },
     "metadata": {},
     "output_type": "display_data"
    }
   ],
   "source": [
    "from sklearn.metrics import auc,roc_curve,RocCurveDisplay\n",
    "fpr, tpr, thresholds = roc_curve(y_test,test_pred)\n",
    "roc_auc = auc(fpr,tpr)\n",
    "RocCurveDisplay(fpr=fpr, tpr=tpr, roc_auc=roc_auc).plot()\n",
    "plt.show()"
   ]
  },
  {
   "cell_type": "markdown",
   "id": "fdae71a5",
   "metadata": {
    "papermill": {
     "duration": 0.040853,
     "end_time": "2024-05-15T18:47:32.314367",
     "exception": false,
     "start_time": "2024-05-15T18:47:32.273514",
     "status": "completed"
    },
    "tags": []
   },
   "source": [
    "**Area Under Curve Score**"
   ]
  },
  {
   "cell_type": "code",
   "execution_count": 55,
   "id": "cef13f1c",
   "metadata": {
    "execution": {
     "iopub.execute_input": "2024-05-15T18:47:32.396882Z",
     "iopub.status.busy": "2024-05-15T18:47:32.396083Z",
     "iopub.status.idle": "2024-05-15T18:47:32.403937Z",
     "shell.execute_reply": "2024-05-15T18:47:32.402913Z"
    },
    "papermill": {
     "duration": 0.052272,
     "end_time": "2024-05-15T18:47:32.406264",
     "exception": false,
     "start_time": "2024-05-15T18:47:32.353992",
     "status": "completed"
    },
    "tags": []
   },
   "outputs": [
    {
     "name": "stdout",
     "output_type": "stream",
     "text": [
      "AUC Score: 0.6233031674208145\n"
     ]
    }
   ],
   "source": [
    "from sklearn.metrics import roc_auc_score\n",
    "print('AUC Score:',roc_auc_score(y_test,test_pred))"
   ]
  }
 ],
 "metadata": {
  "kaggle": {
   "accelerator": "none",
   "dataSources": [
    {
     "datasetId": 727551,
     "sourceId": 1263738,
     "sourceType": "datasetVersion"
    }
   ],
   "dockerImageVersionId": 30698,
   "isGpuEnabled": false,
   "isInternetEnabled": false,
   "language": "python",
   "sourceType": "notebook"
  },
  "kernelspec": {
   "display_name": "Python 3",
   "language": "python",
   "name": "python3"
  },
  "language_info": {
   "codemirror_mode": {
    "name": "ipython",
    "version": 3
   },
   "file_extension": ".py",
   "mimetype": "text/x-python",
   "name": "python",
   "nbconvert_exporter": "python",
   "pygments_lexer": "ipython3",
   "version": "3.10.13"
  },
  "papermill": {
   "default_parameters": {},
   "duration": 124.566923,
   "end_time": "2024-05-15T18:47:33.168010",
   "environment_variables": {},
   "exception": null,
   "input_path": "__notebook__.ipynb",
   "output_path": "__notebook__.ipynb",
   "parameters": {},
   "start_time": "2024-05-15T18:45:28.601087",
   "version": "2.5.0"
  }
 },
 "nbformat": 4,
 "nbformat_minor": 5
}
